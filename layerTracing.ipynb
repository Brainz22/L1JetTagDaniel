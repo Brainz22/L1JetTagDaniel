{
 "cells": [
  {
   "cell_type": "code",
   "execution_count": 2,
   "metadata": {},
   "outputs": [
    {
     "name": "stderr",
     "output_type": "stream",
     "text": [
      "2024-06-24 20:55:22.500964: I tensorflow/core/platform/cpu_feature_guard.cc:193] This TensorFlow binary is optimized with oneAPI Deep Neural Network Library (oneDNN) to use the following CPU instructions in performance-critical operations:  SSE4.1 SSE4.2 AVX AVX2 FMA\n",
      "To enable them in other operations, rebuild TensorFlow with the appropriate compiler flags.\n",
      "2024-06-24 20:55:26.118132: I tensorflow/core/platform/cpu_feature_guard.cc:193] This TensorFlow binary is optimized with oneAPI Deep Neural Network Library (oneDNN) to use the following CPU instructions in performance-critical operations:  SSE4.1 SSE4.2 AVX AVX2 FMA\n",
      "To enable them in other operations, rebuild TensorFlow with the appropriate compiler flags.\n"
     ]
    },
    {
     "name": "stdout",
     "output_type": "stream",
     "text": [
      "WARNING:tensorflow:From /home/users/russelld/micromamba/envs/L1JetTag/lib/python3.10/site-packages/tensorflow/python/autograph/pyct/static_analysis/liveness.py:83: Analyzer.lamba_check (from tensorflow.python.autograph.pyct.static_analysis.liveness) is deprecated and will be removed after 2023-09-23.\n",
      "Instructions for updating:\n",
      "Lambda fuctions will be no more assumed to be used in the statement where they are used, or at least in the same block. https://github.com/tensorflow/tensorflow/issues/56089\n"
     ]
    },
    {
     "name": "stderr",
     "output_type": "stream",
     "text": [
      "WARNING:tensorflow:From /home/users/russelld/micromamba/envs/L1JetTag/lib/python3.10/site-packages/tensorflow/python/autograph/pyct/static_analysis/liveness.py:83: Analyzer.lamba_check (from tensorflow.python.autograph.pyct.static_analysis.liveness) is deprecated and will be removed after 2023-09-23.\n",
      "Instructions for updating:\n",
      "Lambda fuctions will be no more assumed to be used in the statement where they are used, or at least in the same block. https://github.com/tensorflow/tensorflow/issues/56089\n"
     ]
    },
    {
     "name": "stdout",
     "output_type": "stream",
     "text": [
      "WARNING:tensorflow:No training configuration found in the save file, so the model was *not* compiled. Compile it manually.\n"
     ]
    },
    {
     "name": "stderr",
     "output_type": "stream",
     "text": [
      "WARNING:tensorflow:No training configuration found in the save file, so the model was *not* compiled. Compile it manually.\n",
      "/home/users/russelld/L1JetTagDaniel/Software/hls4ml/hls4ml/converters/__init__.py:27: UserWarning: WARNING: Pytorch converter is not enabled!\n",
      "  warnings.warn(\"WARNING: Pytorch converter is not enabled!\", stacklevel=1)\n"
     ]
    },
    {
     "name": "stdout",
     "output_type": "stream",
     "text": [
      "WARNING: Failed to import handlers from convolution.py: No module named 'torch'.\n",
      "WARNING: Failed to import handlers from core.py: No module named 'torch'.\n",
      "WARNING: Failed to import handlers from merge.py: No module named 'torch'.\n",
      "WARNING: Failed to import handlers from pooling.py: No module named 'torch'.\n",
      "WARNING: Failed to import handlers from reshape.py: No module named 'torch'.\n",
      "Interpreting Model\n",
      "Topology:\n",
      "Layer name: input_1, layer type: InputLayer, input shapes: [[None, 10, 14]], output shape: [None, 10, 14]\n",
      "Layer name: q_conv1d, layer type: QConv1D, input shapes: [[None, 10, 14]], output shape: [None, 10, 10]\n",
      "Layer name: q_activation, layer type: Activation, input shapes: [[None, 10, 10]], output shape: [None, 10, 10]\n",
      "Layer name: q_conv1d_1, layer type: QConv1D, input shapes: [[None, 10, 10]], output shape: [None, 10, 10]\n",
      "Layer name: q_activation_1, layer type: Activation, input shapes: [[None, 10, 10]], output shape: [None, 10, 10]\n",
      "Layer name: global_average_pooling1d, layer type: GlobalAveragePooling1D, input shapes: [[None, 10, 10]], output shape: [None, 10]\n",
      "Layer name: q_dense, layer type: QDense, input shapes: [[None, 10]], output shape: [None, 10]\n",
      "Layer name: q_activation_2, layer type: Activation, input shapes: [[None, 10]], output shape: [None, 10]\n",
      "Layer name: q_dense_1, layer type: QDense, input shapes: [[None, 10]], output shape: [None, 1]\n",
      "Layer name: sigmoid, layer type: Activation, input shapes: [[None, 1]], output shape: [None, 1]\n",
      "-----------------------------------\n",
      "Enable tracing for layer: input_1\n",
      "Enable tracing for layer: q_conv1d\n",
      "Enable tracing for layer: q_conv1d_linear\n",
      "Enable tracing for layer: q_activation\n",
      "Enable tracing for layer: q_conv1d_1\n",
      "Enable tracing for layer: q_conv1d_1_linear\n",
      "Enable tracing for layer: q_activation_1\n",
      "Enable tracing for layer: global_average_pooling1d\n",
      "Enable tracing for layer: q_dense\n",
      "Enable tracing for layer: q_dense_linear\n",
      "Enable tracing for layer: q_activation_2\n",
      "Enable tracing for layer: q_dense_1\n",
      "Enable tracing for layer: q_dense_1_linear\n",
      "Enable tracing for layer: sigmoid\n",
      "Interpreting Model\n",
      "Topology:\n",
      "Layer name: input_1, layer type: InputLayer, input shapes: [[None, 10, 14]], output shape: [None, 10, 14]\n",
      "Layer name: q_conv1d, layer type: QConv1D, input shapes: [[None, 10, 14]], output shape: [None, 10, 10]\n",
      "Layer name: q_activation, layer type: Activation, input shapes: [[None, 10, 10]], output shape: [None, 10, 10]\n",
      "Layer name: q_conv1d_1, layer type: QConv1D, input shapes: [[None, 10, 10]], output shape: [None, 10, 10]\n",
      "Layer name: q_activation_1, layer type: Activation, input shapes: [[None, 10, 10]], output shape: [None, 10, 10]\n",
      "Layer name: global_average_pooling1d, layer type: GlobalAveragePooling1D, input shapes: [[None, 10, 10]], output shape: [None, 10]\n",
      "Layer name: q_dense, layer type: QDense, input shapes: [[None, 10]], output shape: [None, 10]\n",
      "Layer name: q_activation_2, layer type: Activation, input shapes: [[None, 10]], output shape: [None, 10]\n",
      "Layer name: q_dense_1, layer type: QDense, input shapes: [[None, 10]], output shape: [None, 1]\n",
      "Layer name: sigmoid, layer type: Activation, input shapes: [[None, 1]], output shape: [None, 1]\n",
      "Creating HLS model\n",
      "WARNING: Layer q_conv1d requires \"dataflow\" pipeline style. Switching to \"dataflow\" pipeline style.\n",
      "WARNING: Config parameter \"trace\" overwrites an existing attribute in layer \"q_conv1d\" (PointwiseConv1D)\n",
      "WARNING: Config parameter \"precision\" overwrites an existing attribute in layer \"q_conv1d\" (PointwiseConv1D)\n",
      "WARNING: Config parameter \"reuse_factor\" overwrites an existing attribute in layer \"q_conv1d\" (PointwiseConv1D)\n",
      "WARNING: Config parameter \"conv_implementation\" overwrites an existing attribute in layer \"q_conv1d\" (PointwiseConv1D)\n",
      "WARNING: Config parameter \"trace\" overwrites an existing attribute in layer \"q_conv1d_1\" (PointwiseConv1D)\n",
      "WARNING: Config parameter \"precision\" overwrites an existing attribute in layer \"q_conv1d_1\" (PointwiseConv1D)\n",
      "WARNING: Config parameter \"reuse_factor\" overwrites an existing attribute in layer \"q_conv1d_1\" (PointwiseConv1D)\n",
      "WARNING: Config parameter \"conv_implementation\" overwrites an existing attribute in layer \"q_conv1d_1\" (PointwiseConv1D)\n",
      "Writing HLS project\n",
      "WARNING:tensorflow:Compiled the loaded model, but the compiled metrics have yet to be built. `model.compile_metrics` will be empty until you train or evaluate the model.\n"
     ]
    },
    {
     "name": "stderr",
     "output_type": "stream",
     "text": [
      "WARNING:tensorflow:Compiled the loaded model, but the compiled metrics have yet to be built. `model.compile_metrics` will be empty until you train or evaluate the model.\n"
     ]
    },
    {
     "name": "stdout",
     "output_type": "stream",
     "text": [
      "Done\n"
     ]
    }
   ],
   "source": [
    "import numpy as np\n",
    "import h5py\n",
    "import matplotlib\n",
    "matplotlib.use(\"Agg\")\n",
    "import sys, os, numpy\n",
    "import matplotlib.pyplot as plt\n",
    "import tensorflow\n",
    "from sklearn.model_selection import train_test_split\n",
    "\n",
    "from qkeras.utils import load_qmodel\n",
    "\n",
    "os.environ['PATH'] = '/data/software/xilinx/Vivado/2020.1/bin:' + os.environ['PATH'] #Mulder\n",
    "\n",
    "model = load_qmodel(\"/home/users/russelld/L1JetTagDaniel/hls4mlModifications/10-08-23/qkL1JetTagModel.h5\")\n",
    "\n",
    "#Convert model to HLS\n",
    "\n",
    "import hls4ml\n",
    "config = hls4ml.utils.config_from_keras_model(model, granularity='name')\n",
    "print(\"-----------------------------------\")\n",
    "\n",
    "config['LayerName']['q_conv1d']['ReuseFactor'] = 2\n",
    "config['LayerName']['q_conv1d_1']['ReuseFactor'] = 2\n",
    "config[\"LayerName\"][\"q_conv1d\"][\"ConvImplementation\"] = \"Pointwise\"\n",
    "config[\"LayerName\"][\"q_conv1d_1\"][\"ConvImplementation\"] = \"Pointwise\"\n",
    "config[\"LayerName\"][\"input_1\"][\"Precision\"] = \"fixed<32,16>\"\n",
    "\n",
    "for layer in config['LayerName'].keys():\n",
    "    print('Enable tracing for layer:', layer)\n",
    "    config['LayerName'][layer]['Trace'] = True\n",
    "\n",
    "hls_model = hls4ml.converters.convert_from_keras_model(model,\n",
    "                                                       hls_config=config,\n",
    "                                                       output_dir='qkmodel_1/hls4ml_prj',\n",
    "                                                       part='xcvu13p-flga2577-2-e')\n",
    "\n",
    "#plot hls model\n",
    "hls4ml.utils.plot_model(hls_model, show_shapes=True, show_precision=True, to_file=\"/home/users/russelld/L1JetTagDaniel/LayerTraces/qkmodel.png\")\n",
    "\n",
    "\n",
    "#Compile model, no need to convert if we are plotting performance\n",
    "hls_model.compile()\n",
    "\n",
    "# Handle Data:\n",
    "with h5py.File(\"/home/users/russelld/L1JetTagDaniel/hls4mlModifications/10-08-23/newTestDataST30.h5\", \"r\") as hf:\n",
    "    dataset = hf[\"Testing Data\"][:]\n",
    "with h5py.File(\"/home/users/russelld/L1JetTagDaniel/backgroundQCD/testingDatapt30QCD.h5\", \"r\") as hf:\n",
    "    datasetQCD = hf[\"Testing Data\"][:]\n",
    "    \n",
    "dataset = np.concatenate((dataset,datasetQCD)) #Stacking datasets on top of another\n",
    "np.random.shuffle(dataset) #shuffling rows\n",
    "   \n",
    "N_PART_PER_JET = 10\n",
    "N_FEAT = 14\n",
    "A = dataset[:, 0 : len(dataset[0]) - 1]\n",
    "b = dataset[:, len(dataset[0]) - 1]\n",
    "#A = expand_dims(A, axis=3)\n",
    "A = A.reshape((A.shape[0], N_PART_PER_JET, N_FEAT))\n",
    "X_test = np.ascontiguousarray(A)\n"
   ]
  },
  {
   "cell_type": "code",
   "execution_count": 3,
   "metadata": {},
   "outputs": [],
   "source": [
    "#!pip install seaborn"
   ]
  },
  {
   "cell_type": "code",
   "execution_count": 4,
   "metadata": {},
   "outputs": [],
   "source": [
    "#begin profiling\n",
    "import hls4ml.model.profiling"
   ]
  },
  {
   "cell_type": "code",
   "execution_count": 5,
   "metadata": {},
   "outputs": [
    {
     "name": "stdout",
     "output_type": "stream",
     "text": [
      "Recompiling myproject with tracing\n",
      "Writing HLS project\n",
      "WARNING:tensorflow:Compiled the loaded model, but the compiled metrics have yet to be built. `model.compile_metrics` will be empty until you train or evaluate the model.\n"
     ]
    },
    {
     "name": "stderr",
     "output_type": "stream",
     "text": [
      "WARNING:tensorflow:Compiled the loaded model, but the compiled metrics have yet to be built. `model.compile_metrics` will be empty until you train or evaluate the model.\n"
     ]
    },
    {
     "name": "stdout",
     "output_type": "stream",
     "text": [
      "Done\n",
      "3409/3409 [==============================] - 3s 867us/step\n",
      "Done taking outputs for Keras model.\n"
     ]
    }
   ],
   "source": [
    "y_hls, hls4ml_trace = hls_model.trace(X_test)\n",
    "keras_trace = hls4ml.model.profiling.get_ymodel_keras(model, A)"
   ]
  },
  {
   "cell_type": "code",
   "execution_count": 8,
   "metadata": {},
   "outputs": [],
   "source": [
    "for LAYER in hls4ml_trace.keys():\n",
    "    plt.figure()\n",
    "    plt.scatter(hls4ml_trace[LAYER].flatten(), keras_trace[LAYER].flatten())\n",
    "    min_x = min(np.amin(hls4ml_trace[LAYER]), np.amin(keras_trace[LAYER]))\n",
    "    max_x = max(np.amax(hls4ml_trace[LAYER]), np.amax(keras_trace[LAYER]))\n",
    "    plt.plot([min_x, max_x], [min_x, max_x], c='gray')\n",
    "    plt.xlabel('hls4ml {}'.format(LAYER))\n",
    "    #plt.xlabel('hls4ml {}'.format(LAYER))\n",
    "    plt.ylabel('QKeras {}'.format(LAYER))\n",
    "    plt.savefig(f\"/home/users/russelld/L1JetTagDaniel/LayerTraces/profiling_{LAYER}.png\")   "
   ]
  },
  {
   "cell_type": "code",
   "execution_count": null,
   "metadata": {},
   "outputs": [],
   "source": []
  }
 ],
 "metadata": {
  "kernelspec": {
   "display_name": "L1JetTag",
   "language": "python",
   "name": "l1jettag"
  },
  "language_info": {
   "codemirror_mode": {
    "name": "ipython",
    "version": 3
   },
   "file_extension": ".py",
   "mimetype": "text/x-python",
   "name": "python",
   "nbconvert_exporter": "python",
   "pygments_lexer": "ipython3",
   "version": "3.10.10"
  }
 },
 "nbformat": 4,
 "nbformat_minor": 4
}
