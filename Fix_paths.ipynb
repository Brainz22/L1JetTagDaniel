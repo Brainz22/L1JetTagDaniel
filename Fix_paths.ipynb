{
 "cells": [
  {
   "cell_type": "code",
   "execution_count": 1,
   "metadata": {},
   "outputs": [
    {
     "name": "stdout",
     "output_type": "stream",
     "text": [
      "/uscms_data/d3/rmarroqu/cmsL1trigger_Analysis/work/CMSSW_14_0_0_pre3/src/MinBias\n"
     ]
    }
   ],
   "source": [
    "!pwd"
   ]
  },
  {
   "attachments": {},
   "cell_type": "markdown",
   "metadata": {},
   "source": [
    "Files are stored in /eos/. I am fixing their paths to remove /eos/ and access them via xrootd. `MinBiasPaths.txt` contains the output of ```ls /eos/uscms/store/user/russelld/MinBias_TuneCP5_14TeV-pythia8/L1Nano_MinBias/*/*/*.root > MinBiasPaths.txt ```"
   ]
  },
  {
   "attachments": {},
   "cell_type": "markdown",
   "metadata": {},
   "source": [
    "Below, I read the text file line by line and put them into a list"
   ]
  },
  {
   "cell_type": "code",
   "execution_count": 26,
   "metadata": {},
   "outputs": [],
   "source": [
    "with open(\"cPMinBias.txt\", 'r') as file:\n",
    "    # Read all lines from the file, strip newline characters, and store them in a list\n",
    "    l = [line.strip() for line in file.readlines()]"
   ]
  },
  {
   "attachments": {},
   "cell_type": "markdown",
   "metadata": {},
   "source": [
    "After reading the .txt, I put the lines into a list... "
   ]
  },
  {
   "cell_type": "code",
   "execution_count": 35,
   "metadata": {},
   "outputs": [
    {
     "data": {
      "text/plain": [
       "'/store/'"
      ]
     },
     "execution_count": 35,
     "metadata": {},
     "output_type": "execute_result"
    }
   ],
   "source": [
    "l[0][8:15]"
   ]
  },
  {
   "attachments": {},
   "cell_type": "markdown",
   "metadata": {},
   "source": [
    "Below I slice out the first 9 characters in each string and add the xrootd dependence. The characters removed will `/eos/cms/`"
   ]
  },
  {
   "cell_type": "code",
   "execution_count": 36,
   "metadata": {},
   "outputs": [],
   "source": [
    "paths = [\"root://cmsxrootd.fnal.gov//\" + path[8:] for path in l[0:]]"
   ]
  },
  {
   "cell_type": "code",
   "execution_count": 37,
   "metadata": {},
   "outputs": [
    {
     "data": {
      "text/plain": [
       "'root://cmsxrootd.fnal.gov///store/group/dpg_trigger/comm_trigger/L1Trigger/alobanov/phase2/menu/ntuples/14X/v38/MinBias_TuneCP5_14TeV-pythia8/MinBias_131_L1Fix_IBv9_wTT/240412_211203/0000/test_100.root'"
      ]
     },
     "execution_count": 37,
     "metadata": {},
     "output_type": "execute_result"
    }
   ],
   "source": [
    "paths[0]"
   ]
  },
  {
   "attachments": {},
   "cell_type": "markdown",
   "metadata": {},
   "source": [
    "Finally, I write the string in the list into a `.sh` file..."
   ]
  },
  {
   "cell_type": "code",
   "execution_count": 39,
   "metadata": {},
   "outputs": [],
   "source": [
    "out_f = open(\"cPMinBiasCorrectPaths.sh\", 'w')"
   ]
  },
  {
   "cell_type": "code",
   "execution_count": 40,
   "metadata": {},
   "outputs": [],
   "source": [
    "i = 0\n",
    "j = 0\n",
    "for item in paths:\n",
    "    if i == 90:\n",
    "        out_f.write('\\n')\n",
    "        out_f.write('hadd ./hadd{}.root \\ \\n'.format(j))\n",
    "        out_f.write(item+ \" \\ \"+ '\\n')\n",
    "        j += 1\n",
    "        i = 0\n",
    "    else:\n",
    "        out_f.write(item+ \" \\ \"+ '\\n')\n",
    "        i += 1\n",
    "out_f.close()"
   ]
  },
  {
   "attachments": {},
   "cell_type": "markdown",
   "metadata": {},
   "source": [
    "I will need to remove the trailing white spaces that will show up at the end of every line, but I can do that using `vim`.. In vim, the following command removes trailing whitespaces: `%s/\\s\\+$//e`"
   ]
  },
  {
   "cell_type": "code",
   "execution_count": null,
   "metadata": {},
   "outputs": [],
   "source": []
  }
 ],
 "metadata": {
  "kernelspec": {
   "display_name": "Python 3 (ipykernel)",
   "language": "python",
   "name": "python3"
  },
  "language_info": {
   "codemirror_mode": {
    "name": "ipython",
    "version": 3
   },
   "file_extension": ".py",
   "mimetype": "text/x-python",
   "name": "python",
   "nbconvert_exporter": "python",
   "pygments_lexer": "ipython3",
   "version": "3.9.14"
  },
  "orig_nbformat": 4
 },
 "nbformat": 4,
 "nbformat_minor": 2
}
