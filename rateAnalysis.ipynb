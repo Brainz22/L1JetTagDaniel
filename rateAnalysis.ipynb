{
 "cells": [
  {
   "cell_type": "code",
   "execution_count": 1,
   "metadata": {},
   "outputs": [],
   "source": [
    "import uproot\n",
    "import pandas as pd\n",
    "import matplotlib.pyplot as plt\n",
    "import awkward as ak\n",
    "import numpy as np"
   ]
  },
  {
   "cell_type": "code",
   "execution_count": 2,
   "metadata": {},
   "outputs": [
    {
     "name": "stdout",
     "output_type": "stream",
     "text": [
      "checking.ipynb\t\t  hadd1.root\t    hadd.root\n",
      "cPMinBiasCorrectPaths.sh  hadd2.root\t    hadd.sh\n",
      "cPMinBias.txt\t\t  hadd3.root\t    MinBiasCorrectPaths.sh\n",
      "file.root\t\t  hadd4.root\t    nohup.out\n",
      "Fix_paths.ipynb\t\t  hadded\t    rateAnalysis.ipynb\n",
      "hadd0.root\t\t  hadd_of_hadds.sh\n"
     ]
    }
   ],
   "source": [
    "!ls"
   ]
  },
  {
   "cell_type": "code",
   "execution_count": 3,
   "metadata": {},
   "outputs": [
    {
     "name": "stdout",
     "output_type": "stream",
     "text": [
      "/uscms_data/d3/rmarroqu/el8cmsL1trigger_Analysis/work/CMSSW_14_0_0_pre3/src/MinBias\n"
     ]
    }
   ],
   "source": [
    "!pwd"
   ]
  },
  {
   "cell_type": "code",
   "execution_count": 4,
   "metadata": {},
   "outputs": [
    {
     "name": "stdout",
     "output_type": "stream",
     "text": [
      "/uscms_data/d3/rmarroqu/cmsL1trigger_Analysis/work/CMSSW_14_0_0_pre3/src/MinBias\n"
     ]
    }
   ],
   "source": [
    "!pwd"
   ]
  },
  {
   "cell_type": "code",
   "execution_count": 4,
   "metadata": {},
   "outputs": [],
   "source": [
    "f = uproot.open(\"/uscms_data/d3/rmarroqu/el8cmsL1trigger_Analysis/work/CMSSW_14_0_0_pre3/src/MinBias/hadded/complete_hadd.root\")"
   ]
  },
  {
   "attachments": {},
   "cell_type": "markdown",
   "metadata": {},
   "source": [
    "lxplus files..."
   ]
  },
  {
   "cell_type": "code",
   "execution_count": 5,
   "metadata": {},
   "outputs": [],
   "source": [
    "#f = uproot.open(\"root://cmsxrootd.fnal.gov///store/group/dpg_trigger/comm_trigger/L1Trigger/alobanov/phase2/menu/ntuples/14X/v38/MinBias_TuneCP5_14TeV-pythia8/MinBias_131_L1Fix_IBv9_wTT/240412_211203/0000/test_100.root\")"
   ]
  },
  {
   "cell_type": "code",
   "execution_count": 6,
   "metadata": {},
   "outputs": [],
   "source": [
    "llpScores = f[\"Events\"][\"L1puppiExtJetSC4_llpTagScore\"].arrays()"
   ]
  },
  {
   "cell_type": "code",
   "execution_count": 7,
   "metadata": {},
   "outputs": [
    {
     "data": {
      "text/plain": [
       "3259988"
      ]
     },
     "execution_count": 7,
     "metadata": {},
     "output_type": "execute_result"
    }
   ],
   "source": [
    "len(llpScores)"
   ]
  },
  {
   "attachments": {},
   "cell_type": "markdown",
   "metadata": {},
   "source": [
    "Apply the llpScore cut jets in each event... the code below returns True or False for each jet."
   ]
  },
  {
   "cell_type": "code",
   "execution_count": 8,
   "metadata": {},
   "outputs": [],
   "source": [
    "accepted_Evs09 = ak.sum(llpScores['L1puppiExtJetSC4_llpTagScore'] > 0.9, axis =-1) > 1 # At least 1 jet passes\n",
    "#     the probability threshold; gives boolean\n",
    "accepted_Evs08 = ak.sum(llpScores['L1puppiExtJetSC4_llpTagScore'] > 0.8, axis =-1) > 1 # At least 1 jet passes\n",
    "#     the probability threshold; gives boolean"
   ]
  },
  {
   "cell_type": "code",
   "execution_count": 9,
   "metadata": {},
   "outputs": [],
   "source": [
    "pT = f[\"Events\"][\"L1puppiExtJetSC4_pt\"].arrays()"
   ]
  },
  {
   "cell_type": "code",
   "execution_count": 14,
   "metadata": {},
   "outputs": [],
   "source": [
    "eta = f[\"Events\"][\"L1puppiExtJetSC4_eta\"].arrays()"
   ]
  },
  {
   "cell_type": "code",
   "execution_count": null,
   "metadata": {},
   "outputs": [],
   "source": []
  },
  {
   "cell_type": "code",
   "execution_count": 107,
   "metadata": {},
   "outputs": [
    {
     "data": {
      "text/plain": [
       "63"
      ]
     },
     "execution_count": 107,
     "metadata": {},
     "output_type": "execute_result"
    }
   ],
   "source": []
  },
  {
   "cell_type": "code",
   "execution_count": 10,
   "metadata": {},
   "outputs": [],
   "source": [
    "ZeroBiasRate = 11.2456*2544 #kHZ"
   ]
  },
  {
   "attachments": {},
   "cell_type": "markdown",
   "metadata": {},
   "source": [
    "## Ordering by LLP Score"
   ]
  },
  {
   "attachments": {},
   "cell_type": "markdown",
   "metadata": {},
   "source": [
    "Below, I sort the LLP scores starting with the highest score of accepted events from above cut. The array below stores the index position"
   ]
  },
  {
   "cell_type": "code",
   "execution_count": 11,
   "metadata": {},
   "outputs": [],
   "source": [
    "idxHighLLPscore_accepted08 = ak.argsort(llpScores[accepted_Evs08]['L1puppiExtJetSC4_llpTagScore'], ascending=False)[0:,0]"
   ]
  },
  {
   "cell_type": "code",
   "execution_count": 12,
   "metadata": {},
   "outputs": [
    {
     "data": {
      "text/plain": [
       "2"
      ]
     },
     "execution_count": 12,
     "metadata": {},
     "output_type": "execute_result"
    }
   ],
   "source": [
    "np.argmax(llpScores[accepted_Evs08]['L1puppiExtJetSC4_llpTagScore'][2]) #check indicies manually from list below"
   ]
  },
  {
   "cell_type": "code",
   "execution_count": 13,
   "metadata": {},
   "outputs": [
    {
     "data": {
      "text/html": [
       "<pre>[1,\n",
       " 1,\n",
       " 2,\n",
       " 4,\n",
       " 3,\n",
       " 2,\n",
       " 4,\n",
       " 1,\n",
       " 0,\n",
       " 0,\n",
       " ...,\n",
       " 2,\n",
       " 2,\n",
       " 5,\n",
       " 3,\n",
       " 0,\n",
       " 0,\n",
       " 5,\n",
       " 5,\n",
       " 1]\n",
       "---------------------\n",
       "type: 3257081 * int64</pre>"
      ],
      "text/plain": [
       "<Array [1, 1, 2, 4, 3, 2, 4, ..., 5, 3, 0, 0, 5, 5, 1] type='3257081 * int64'>"
      ]
     },
     "execution_count": 13,
     "metadata": {},
     "output_type": "execute_result"
    }
   ],
   "source": [
    "idxHighLLPscore_accepted08"
   ]
  },
  {
   "cell_type": "code",
   "execution_count": 14,
   "metadata": {},
   "outputs": [],
   "source": [
    "pT_accepted_Evs09 = pT['L1puppiExtJetSC4_pt'][accepted_Evs09]\n",
    "pT_accepted_Evs08 = pT['L1puppiExtJetSC4_pt'][accepted_Evs08]"
   ]
  },
  {
   "attachments": {},
   "cell_type": "markdown",
   "metadata": {},
   "source": [
    "Below, I select on each dimension by an index and flatten this. The total count is number of event that passed the score cut."
   ]
  },
  {
   "cell_type": "code",
   "execution_count": 15,
   "metadata": {},
   "outputs": [],
   "source": [
    "orderByScorePt08 = ak.flatten(pT_accepted_Evs08[np.arange(len(pT_accepted_Evs08))[:,None], idxHighLLPscore_accepted08[0:,None]])"
   ]
  },
  {
   "cell_type": "code",
   "execution_count": 16,
   "metadata": {},
   "outputs": [
    {
     "name": "stderr",
     "output_type": "stream",
     "text": [
      "/cvmfs/cms.cern.ch/slc7_amd64_gcc12/external/py3-numpy/1.24.3-6c4922f4e317e74c4b82416c41722d10/lib/python3.9/site-packages/numpy/core/getlimits.py:518: UserWarning: The value of the smallest subnormal for <class 'numpy.float64'> type is zero.\n",
      "  setattr(self, word, getattr(machar, word).flat[0])\n",
      "/cvmfs/cms.cern.ch/slc7_amd64_gcc12/external/py3-numpy/1.24.3-6c4922f4e317e74c4b82416c41722d10/lib/python3.9/site-packages/numpy/core/getlimits.py:89: UserWarning: The value of the smallest subnormal for <class 'numpy.float64'> type is zero.\n",
      "  return self._float_to_str(self.smallest_subnormal)\n"
     ]
    },
    {
     "data": {
      "image/png": "[encoded data removed]",
      "text/plain": [
       "<Figure size 640x480 with 1 Axes>"
      ]
     },
     "metadata": {},
     "output_type": "display_data"
    }
   ],
   "source": [
    "(countsPt08, binsPt08, _) = plt.hist(orderByScorePt08,bins=20, alpha= 0.8,)\n",
    "plt.yscale(\"log\")\n",
    "plt.xlabel(\"Online $P_T$\", fontsize=16)\n",
    "plt.ylabel(\"Counts\", fontsize=16)\n",
    "plt.grid(True)"
   ]
  },
  {
   "cell_type": "code",
   "execution_count": 17,
   "metadata": {},
   "outputs": [],
   "source": [
    "bin_centersPt08 = []\n",
    "for i in range (len(binsPt08)-1):\n",
    "    bcPt08 = (binsPt08[i+1] + binsPt08[i])/2\n",
    "    bin_centersPt08.append(bcPt08)\n"
   ]
  },
  {
   "cell_type": "code",
   "execution_count": 34,
   "metadata": {},
   "outputs": [
    {
     "data": {
      "image/png": "[encoded data removed]",
      "text/plain": [
       "<Figure size 640x480 with 1 Axes>"
      ]
     },
     "metadata": {},
     "output_type": "display_data"
    }
   ],
   "source": [
    "plt.scatter(bin_centersPt08, (countsPt08*ZeroBiasRate)/len(orderByScorePt08), label=\"score > 0.8\")\n",
    "plt.plot(bin_centersPt08, (countsPt08*ZeroBiasRate)/len(orderByScorePt08))\n",
    "plt.yscale(\"log\")\n",
    "plt.xlabel(\"Online $P_T$\", fontsize=16)\n",
    "plt.ylabel(\"Rate (kHz)\", fontsize=16)\n",
    "plt.legend()\n",
    "plt.grid(True)"
   ]
  },
  {
   "cell_type": "code",
   "execution_count": 19,
   "metadata": {},
   "outputs": [
    {
     "data": {
      "text/plain": [
       "(3259988, 3250314, 3257081)"
      ]
     },
     "execution_count": 19,
     "metadata": {},
     "output_type": "execute_result"
    }
   ],
   "source": [
    "len(pT), len(pT_accepted_Evs09), len(pT_accepted_Evs08),"
   ]
  },
  {
   "attachments": {},
   "cell_type": "markdown",
   "metadata": {},
   "source": [
    "## Sorting by $P_T$"
   ]
  },
  {
   "attachments": {},
   "cell_type": "markdown",
   "metadata": {},
   "source": [
    "The LLP cut above is applied to each jet, returning True or False if they pass or not. What I need here is: all the jets that pass (True), sort them by $P_T$, and plot the rates using highest $P_T$. So, I can use the events and jets selected above, remove all the False's, sort by $P_T$, and take the jet with highest $P_T$."
   ]
  },
  {
   "attachments": {},
   "cell_type": "markdown",
   "metadata": {},
   "source": [
    "First, I apply $\\eta$ cuts to P_T and llpTagScores arrays..."
   ]
  },
  {
   "cell_type": "code",
   "execution_count": 19,
   "metadata": {},
   "outputs": [],
   "source": [
    "eta_mask = (eta['L1puppiExtJetSC4_eta'] > -2.4) & (eta['L1puppiExtJetSC4_eta'] < 2.4) #eta jet selections per event"
   ]
  },
  {
   "cell_type": "code",
   "execution_count": 20,
   "metadata": {},
   "outputs": [
    {
     "data": {
      "text/html": [
       "<pre>[[True, True, True, True, True, True, ..., True, True, True, True, True, True],\n",
       " [True, True, True, True, True, True, ..., True, True, True, True, True, True],\n",
       " [True, True, True, True, True, False, ..., True, True, True, True, False],\n",
       " [True, True, True, True, True, True, ..., True, True, True, True, True, True],\n",
       " [True, True, True, True, True, True, ..., True, True, True, True, True, False],\n",
       " [True, True, True, True, True, True, ..., True, True, True, True, True, True],\n",
       " [True, True, True, True, True, True, ..., True, True, True, True, True, True],\n",
       " [True, True, True, True, True, True, ..., True, True, True, True, True, True],\n",
       " [True, True, True, True, True, True, ..., True, True, True, True, True, True],\n",
       " [True, True, True, True, True, True, ..., True, True, True, True, True, True],\n",
       " ...,\n",
       " [True, True, True, True, True, True, ..., True, True, True, True, True, True],\n",
       " [True, True, True, True, True, True, True, True, True, True, True, True],\n",
       " [True, True, True, True, True, True, ..., True, True, True, True, True, True],\n",
       " [True, True, True, True, True, True, ..., True, True, True, True, True, True],\n",
       " [True, True, True, True, True, True, ..., True, True, True, True, True, True],\n",
       " [True, True, True, True, True, True, ..., True, True, True, True, True, True],\n",
       " [True, True, True, True, True, True, ..., True, True, True, True, True, False],\n",
       " [True, True, True, True, True, True, ..., True, True, True, True, True, True],\n",
       " [True, True, True, True, True, True, ..., True, True, True, True, True, False]]\n",
       "--------------------------------------------------------------------------------\n",
       "type: 3259988 * var * bool</pre>"
      ],
      "text/plain": [
       "<Array [[True, True, True, ..., True, True], ...] type='3259988 * var * bool'>"
      ]
     },
     "execution_count": 20,
     "metadata": {},
     "output_type": "execute_result"
    }
   ],
   "source": [
    "eta_mask"
   ]
  },
  {
   "cell_type": "code",
   "execution_count": null,
   "metadata": {},
   "outputs": [],
   "source": [
    "ak.sum((eta_mask >= 1), axis=1) # counts the number of True's across events because TRUE == 1"
   ]
  },
  {
   "cell_type": "code",
   "execution_count": 57,
   "metadata": {},
   "outputs": [],
   "source": [
    "eta_cut = ak.sum((eta_mask >= 1), axis=1) > 0 #If # of True's is above 0, then select it (assign True), i.e. there is at least one jet \n",
    "#    within the eta range"
   ]
  },
  {
   "attachments": {},
   "cell_type": "markdown",
   "metadata": {},
   "source": [
    "Now, I apply the eta selection to both llpTagScore and $P_T$ arrays..."
   ]
  },
  {
   "cell_type": "code",
   "execution_count": 59,
   "metadata": {},
   "outputs": [],
   "source": [
    "LLPscores = llpScores['L1puppiExtJetSC4_llpTagScore'][eta_cut]\n",
    "Pt = pT['L1puppiExtJetSC4_pt'][eta_cut]"
   ]
  },
  {
   "cell_type": "code",
   "execution_count": 110,
   "metadata": {},
   "outputs": [
    {
     "data": {
      "text/plain": [
       "63"
      ]
     },
     "execution_count": 110,
     "metadata": {},
     "output_type": "execute_result"
    }
   ],
   "source": [
    "len(pT) - len(Pt) # number of events that do not pass eta cut"
   ]
  },
  {
   "attachments": {},
   "cell_type": "markdown",
   "metadata": {},
   "source": [
    "Next is the LLP Score selection applied on the $P_T$ array."
   ]
  },
  {
   "cell_type": "code",
   "execution_count": 62,
   "metadata": {},
   "outputs": [],
   "source": [
    "ak.sum((LLPscores > 0.8), axis=1); # Counts the # of jets across events with LLP score > 0.8\n",
    "ak.sum((LLPscores > 0.95), axis=1); # Counts the # of jets across events with LLP score > 0.95"
   ]
  },
  {
   "cell_type": "code",
   "execution_count": 69,
   "metadata": {},
   "outputs": [],
   "source": [
    "llpScore_cut80 = ak.sum((LLPscores > 0.8), axis=1) > 0 #If # of jets (> 0.8) is above 0, then selects it (assigns True)\n",
    "llpScore_cut95 = ak.sum((LLPscores > 0.95), axis=1) > 0 #If # of jets (> 0.95) is above 0, then selects it (assigns True)"
   ]
  },
  {
   "cell_type": "code",
   "execution_count": 72,
   "metadata": {},
   "outputs": [],
   "source": [
    "pT_score80 = Pt[llpScore_cut80]\n",
    "pT_score95 = Pt[llpScore_cut95]"
   ]
  },
  {
   "cell_type": "code",
   "execution_count": 116,
   "metadata": {},
   "outputs": [
    {
     "name": "stdout",
     "output_type": "stream",
     "text": [
      "393 events do not pass 0.8 cut and 19619 events do not pass 0.95 cut out of 3259988 events \n"
     ]
    }
   ],
   "source": [
    "print(\"{} events do not pass 0.8 cut and {} events do not pass 0.95 cut out of {} events \".\\\n",
    "    format(len(pT) - len(pT_score80), len(pT) - len(pT_score95), len(pT)))"
   ]
  },
  {
   "cell_type": "code",
   "execution_count": null,
   "metadata": {},
   "outputs": [],
   "source": [
    "ak.num(pT_score95, axis=1) # counts entries with empty events"
   ]
  },
  {
   "attachments": {},
   "cell_type": "markdown",
   "metadata": {},
   "source": [
    "Jets are already pT sorted, so I am getting the first position in each event..."
   ]
  },
  {
   "cell_type": "code",
   "execution_count": 89,
   "metadata": {},
   "outputs": [],
   "source": [
    "leadJetPt_score80 = pT_score80[:, 0]\n",
    "leadJetPt_score95 = pT_score95[:, 0]"
   ]
  },
  {
   "cell_type": "code",
   "execution_count": 96,
   "metadata": {},
   "outputs": [
    {
     "data": {
      "text/plain": [
       "3240369"
      ]
     },
     "execution_count": 96,
     "metadata": {},
     "output_type": "execute_result"
    }
   ],
   "source": [
    "len(leadJetPt_score95)"
   ]
  },
  {
   "attachments": {},
   "cell_type": "markdown",
   "metadata": {},
   "source": [
    "Histograms:"
   ]
  },
  {
   "cell_type": "code",
   "execution_count": 95,
   "metadata": {},
   "outputs": [
    {
     "data": {
      "image/png": "[encoded data removed]",
      "text/plain": [
       "<Figure size 640x480 with 1 Axes>"
      ]
     },
     "metadata": {},
     "output_type": "display_data"
    }
   ],
   "source": [
    "(pTcounts_score80, pTbins_score80, _) = plt.hist(leadJetPt_score80, bins=30)\n",
    "(pTcounts_score95, pTbins_score95, _) = plt.hist(leadJetPt_score95, bins=30, alpha = 0.7)\n",
    "plt.yscale(\"log\")\n",
    "plt.ylabel(\"Counts\", fontsize=16)\n",
    "plt.xlabel(\"Online $P_T$\", fontsize=16)\n",
    "plt.grid(True)"
   ]
  },
  {
   "cell_type": "code",
   "execution_count": 99,
   "metadata": {},
   "outputs": [],
   "source": [
    "bin_centers80 = []\n",
    "bin_centers95 = []\n",
    "for i in range (len(pTbins_score80)-1):\n",
    "    bc08 = (pTbins_score80[i+1] + pTbins_score80[i])/2\n",
    "    bin_centers80.append(bc08)\n",
    "    bc09 = (pTbins_score95[i+1] + pTbins_score95[i])/2\n",
    "    bin_centers95.append(bc09)"
   ]
  },
  {
   "cell_type": "code",
   "execution_count": 121,
   "metadata": {},
   "outputs": [],
   "source": [
    "import mplhep as hep\n",
    "plt.style.use(hep.style.ROOT)\n",
    "\n",
    "import matplotlib.pylab as pylab\n",
    "params = {'legend.fontsize': 'medium',\n",
    "         'axes.labelsize': 'x-large',\n",
    "         'axes.titlesize':'x-large',\n",
    "         'xtick.labelsize':'medium',\n",
    "         'ytick.labelsize':'medium'}\n",
    "pylab.rcParams.update(params)\n",
    "\n",
    "#line thickness\n",
    "import matplotlib as mpl\n",
    "mpl.rcParams['lines.linewidth'] = 2"
   ]
  },
  {
   "cell_type": "code",
   "execution_count": null,
   "metadata": {},
   "outputs": [],
   "source": []
  },
  {
   "cell_type": "code",
   "execution_count": 126,
   "metadata": {},
   "outputs": [
    {
     "data": {
      "image/png": "[encoded data removed]",
      "text/plain": [
       "<Figure size 1000x1000 with 1 Axes>"
      ]
     },
     "metadata": {},
     "output_type": "display_data"
    }
   ],
   "source": [
    "plt.scatter(bin_centers80, (pTcounts_score80/len(pT))*ZeroBiasRate, label = \"score > 0.8\")\n",
    "plt.plot(bin_centers80, (pTcounts_score80/len(pT))*ZeroBiasRate)\n",
    "\n",
    "plt.scatter(bin_centers95, (pTcounts_score95/len(pT))*ZeroBiasRate, label = \"score > 0.95\")\n",
    "plt.plot(bin_centers95, (pTcounts_score95/len(pT))*ZeroBiasRate)\n",
    "\n",
    "hep.cms.text(\"Phase 2 Simulation\")\n",
    "hep.cms.lumitext(\"PU 200 (14 TeV)\")\n",
    "\n",
    "plt.yscale(\"log\")\n",
    "plt.ylabel(\"Rate (kHz)\" )\n",
    "plt.xlabel(\"Lead Jet $P_T$\")\n",
    "plt.legend()\n",
    "plt.grid(True)\n",
    "plt.savefig(\"NNrate_MinBias.pdf\", format='pdf',  bbox_inches='tight')\n"
   ]
  },
  {
   "cell_type": "code",
   "execution_count": null,
   "metadata": {},
   "outputs": [],
   "source": []
  },
  {
   "cell_type": "code",
   "execution_count": null,
   "metadata": {},
   "outputs": [],
   "source": []
  },
  {
   "cell_type": "code",
   "execution_count": null,
   "metadata": {},
   "outputs": [],
   "source": []
  },
  {
   "cell_type": "code",
   "execution_count": null,
   "metadata": {},
   "outputs": [],
   "source": []
  },
  {
   "cell_type": "code",
   "execution_count": null,
   "metadata": {},
   "outputs": [
    {
     "name": "stdout",
     "output_type": "stream",
     "text": [
      "/uscms_data/d3/rmarroqu/cmsL1trigger_Analysis/work/CMSSW_14_0_0_pre3/src/MinBias\n"
     ]
    }
   ],
   "source": [
    "!pwd"
   ]
  },
  {
   "cell_type": "code",
   "execution_count": null,
   "metadata": {},
   "outputs": [
    {
     "name": "stdout",
     "output_type": "stream",
     "text": [
      "HLS_qk_Roc.py\t\t\t\tprofiling_q_activation_2.png\n",
      "README.md\t\t\t\tprofiling_q_conv1d.png\n",
      "ROCCurveQK.png\t\t\t\tprofiling_q_conv1d_1.png\n",
      "dist.png\t\t\t\tprofiling_q_dense.png\n",
      "hls4ml_prj\t\t\t\tprofiling_q_dense_1.png\n",
      "hls_Qk_ROCCurve.png\t\t\tprofiling_sigmoid.png\n",
      "model_summary.png\t\t\tqkL1JetTagModel.h5\n",
      "output_correlation.png\t\t\tqkL1JetTagModel_hls_config.ipynb\n",
      "profiling_global_average_pooling1d.png\tqkModLoss.png\n",
      "profiling_q_activation.png\t\tqkROC.py\n",
      "profiling_q_activation_1.png\t\tqkerasModel.py\n"
     ]
    }
   ],
   "source": []
  },
  {
   "cell_type": "code",
   "execution_count": null,
   "metadata": {},
   "outputs": [],
   "source": []
  },
  {
   "cell_type": "code",
   "execution_count": null,
   "metadata": {},
   "outputs": [],
   "source": []
  },
  {
   "cell_type": "code",
   "execution_count": null,
   "metadata": {},
   "outputs": [
    {
     "data": {
      "text/html": [
       "<pre>[{run: 1, luminosityBlock: 4588, event: 1355292, bunchCrossing: ..., ...},\n",
       " {run: 1, luminosityBlock: 4588, event: 1355290, bunchCrossing: ..., ...},\n",
       " {run: 1, luminosityBlock: 4588, event: 1355294, bunchCrossing: ..., ...},\n",
       " {run: 1, luminosityBlock: 4588, event: 1355293, bunchCrossing: ..., ...},\n",
       " {run: 1, luminosityBlock: 4588, event: 1355291, bunchCrossing: ..., ...},\n",
       " {run: 1, luminosityBlock: 4588, event: 1355299, bunchCrossing: ..., ...},\n",
       " {run: 1, luminosityBlock: 4588, event: 1355297, bunchCrossing: ..., ...},\n",
       " {run: 1, luminosityBlock: 4588, event: 1355295, bunchCrossing: ..., ...},\n",
       " {run: 1, luminosityBlock: 4588, event: 1355302, bunchCrossing: ..., ...},\n",
       " {run: 1, luminosityBlock: 4588, event: 1355296, bunchCrossing: ..., ...},\n",
       " ...,\n",
       " {run: 1, luminosityBlock: 4588, event: 1355585, bunchCrossing: ..., ...},\n",
       " {run: 1, luminosityBlock: 4588, event: 1355578, bunchCrossing: ..., ...},\n",
       " {run: 1, luminosityBlock: 4588, event: 1355581, bunchCrossing: ..., ...},\n",
       " {run: 1, luminosityBlock: 4588, event: 1355583, bunchCrossing: ..., ...},\n",
       " {run: 1, luminosityBlock: 4588, event: 1355586, bunchCrossing: ..., ...},\n",
       " {run: 1, luminosityBlock: 4588, event: 1355577, bunchCrossing: ..., ...},\n",
       " {run: 1, luminosityBlock: 4588, event: 1355584, bunchCrossing: ..., ...},\n",
       " {run: 1, luminosityBlock: 4588, event: 1355588, bunchCrossing: ..., ...},\n",
       " {run: 1, luminosityBlock: 4588, event: 1355587, bunchCrossing: ..., ...}]\n",
       "--------------------------------------------------------------------------------------\n",
       "type: 299 * {\n",
       "    run: uint32,\n",
       "    luminosityBlock: uint32,\n",
       "    event: uint64,\n",
       "    bunchCrossing: uint32,\n",
       "    nL1caloJet: int32,\n",
       "    L1caloJet_et: var * float32,\n",
       "    L1caloJet_eta: var * float32,\n",
       "    L1caloJet_phi: var * float32,\n",
       "    L1caloJet_pt: var * float32,\n",
       "    nL1caloTau: int32,\n",
       "    L1caloTau_eta: var * float32,\n",
       "    L1caloTau_phi: var * float32,\n",
       "    L1caloTau_pt: var * float32,\n",
       "    nGenJetAK8: int32,\n",
       "    GenJetAK8_eta: var * float32,\n",
       "    GenJetAK8_mass: var * float32,\n",
       "    GenJetAK8_phi: var * float32,\n",
       "    GenJetAK8_pt: var * float32,\n",
       "    nGenJet: int32,\n",
       "    GenJet_eta: var * float32,\n",
       "    GenJet_mass: var * float32,\n",
       "    GenJet_phi: var * float32,\n",
       "    GenJet_pt: var * float32,\n",
       "    nGenPart: int32,\n",
       "    GenPart_genPartIdxMother: var * int16,\n",
       "    GenPart_statusFlags: var * uint16,\n",
       "    GenPart_pdgId: var * int32,\n",
       "    GenPart_status: var * int32,\n",
       "    GenPart_dXY: var * float32,\n",
       "    GenPart_eta: var * float32,\n",
       "    GenPart_lXY: var * float32,\n",
       "    GenPart_mass: var * float32,\n",
       "    GenPart_phi: var * float32,\n",
       "    GenPart_pt: var * float32,\n",
       "    GenPart_vertX: var * float32,\n",
       "    GenPart_vertY: var * float32,\n",
       "    nGenVisTau: int32,\n",
       "    GenVisTau_status: var * uint8,\n",
       "    GenVisTau_charge: var * int16,\n",
       "    GenVisTau_genPartIdxMother: var * int16,\n",
       "    GenVisTau_eta: var * float32,\n",
       "    GenVisTau_mass: var * float32,\n",
       "    GenVisTau_phi: var * float32,\n",
       "    GenVisTau_pt: var * float32,\n",
       "    nL1GT: int32,\n",
       "    L1GT_final: var * float32,\n",
       "    L1GT_initial: var * float32,\n",
       "    L1GTpuppiMET_phi: float32,\n",
       "    L1GTpuppiMET_pt: float32,\n",
       "    L1GTscJetSum_ht: float32,\n",
       "    L1GTscJetSum_mht: float32,\n",
       "    L1GTscJetSum_mhtPhi: float32,\n",
       "    nL1GTnnTau: int32,\n",
       "    L1GTnnTau_hwZ0: var * int32,\n",
       "    L1GTnnTau_eta: var * float32,\n",
       "    L1GTnnTau_phi: var * float32,\n",
       "    L1GTnnTau_pt: var * float32,\n",
       "    L1GTnnTau_z0: var * float32,\n",
       "    nL1GTPV: int32,\n",
       "    L1GTPV_hwZ0: var * int32,\n",
       "    L1GTPV_z0: var * float32,\n",
       "    nL1GTscJet: int32,\n",
       "    L1GTscJet_eta: var * float32,\n",
       "    L1GTscJet_phi: var * float32,\n",
       "    L1GTscJet_pt: var * float32,\n",
       "    L1GTscJet_z0: var * float32,\n",
       "    nL1GTtkElectron: int32,\n",
       "    L1GTtkElectron_charge: var * int32,\n",
       "    L1GTtkElectron_hwIso: var * int32,\n",
       "    L1GTtkElectron_hwQual: var * int32,\n",
       "    L1GTtkElectron_hwZ0: var * int32,\n",
       "    L1GTtkElectron_eta: var * float32,\n",
       "    L1GTtkElectron_iso: var * float32,\n",
       "    L1GTtkElectron_phi: var * float32,\n",
       "    L1GTtkElectron_pt: var * float32,\n",
       "    L1GTtkElectron_relIso: var * float32,\n",
       "    L1GTtkElectron_z0: var * float32,\n",
       "    nL1GTgmtTkMuon: int32,\n",
       "    L1GTgmtTkMuon_charge: var * int32,\n",
       "    L1GTgmtTkMuon_hwIso: var * int32,\n",
       "    L1GTgmtTkMuon_hwQual: var * int32,\n",
       "    L1GTgmtTkMuon_hwZ0: var * int32,\n",
       "    L1GTgmtTkMuon_eta: var * float32,\n",
       "    L1GTgmtTkMuon_iso: var * float32,\n",
       "    L1GTgmtTkMuon_phi: var * float32,\n",
       "    L1GTgmtTkMuon_pt: var * float32,\n",
       "    L1GTgmtTkMuon_relIso: var * float32,\n",
       "    L1GTgmtTkMuon_z0: var * float32,\n",
       "    nL1GTtkPhoton: int32,\n",
       "    L1GTtkPhoton_hwIso: var * int32,\n",
       "    L1GTtkPhoton_hwQual: var * int32,\n",
       "    L1GTtkPhoton_eta: var * float32,\n",
       "    L1GTtkPhoton_iso: var * float32,\n",
       "    L1GTtkPhoton_phi: var * float32,\n",
       "    L1GTtkPhoton_pt: var * float32,\n",
       "    L1GTtkPhoton_relIso: var * float32,\n",
       "    nL1GTVertex: int32,\n",
       "    L1GTVertex_hwZ0: var * int32,\n",
       "    L1GTVertex_z0: var * float32,\n",
       "    L1TrackMET_hwValid: bool,\n",
       "    L1TrackMET_hwPhi: int32,\n",
       "    L1TrackMET_hwPt: int32,\n",
       "    L1TrackMET_phi: float32,\n",
       "    L1TrackMET_pt: float32,\n",
       "    nL1ExtTrackJet: int32,\n",
       "    L1ExtTrackJet_hwDisplacedFlagBits: var * uint32,\n",
       "    L1ExtTrackJet_hwEta: var * uint32,\n",
       "    L1ExtTrackJet_hwNDisplacedTracks: var * uint32,\n",
       "    L1ExtTrackJet_hwNTracks: var * uint32,\n",
       "    L1ExtTrackJet_hwPhi: var * uint32,\n",
       "    L1ExtTrackJet_hwPt: var * uint32,\n",
       "    L1ExtTrackJet_hwZ0: var * uint32,\n",
       "    L1ExtTrackJet_eta: var * float32,\n",
       "    L1ExtTrackJet_phi: var * float32,\n",
       "    L1ExtTrackJet_pt: var * float32,\n",
       "    L1ExtTrackJet_z0: var * float32,\n",
       "    L1TrackHT_hwValid: bool,\n",
       "    L1TrackHT_hwPhi: int32,\n",
       "    L1TrackHT_hwPt: int32,\n",
       "    L1TrackHT_ht: float32,\n",
       "    L1TrackHT_mht: float32,\n",
       "    L1TrackHT_phi: float32,\n",
       "    nL1TrackJet: int32,\n",
       "    L1TrackJet_hwDisplacedFlagBits: var * uint32,\n",
       "    L1TrackJet_hwEta: var * uint32,\n",
       "    L1TrackJet_hwNDisplacedTracks: var * uint32,\n",
       "    L1TrackJet_hwNTracks: var * uint32,\n",
       "    L1TrackJet_hwPhi: var * uint32,\n",
       "    L1TrackJet_hwPt: var * uint32,\n",
       "    L1TrackJet_hwZ0: var * uint32,\n",
       "    L1TrackJet_eta: var * float32,\n",
       "    L1TrackJet_phi: var * float32,\n",
       "    L1TrackJet_pt: var * float32,\n",
       "    L1TrackJet_z0: var * float32,\n",
       "    nL1puppiJetHisto: int32,\n",
       "    L1puppiJetHisto_et: var * float32,\n",
       "    L1puppiJetHisto_eta: var * float32,\n",
       "    L1puppiJetHisto_phi: var * float32,\n",
       "    L1puppiJetHisto_pt: var * float32,\n",
       "    nL1puppiHistoJetSums: int32,\n",
       "    L1puppiHistoJetSums_phi: var * float32,\n",
       "    L1puppiHistoJetSums_pt: var * float32,\n",
       "    nL1hpsTau: int32,\n",
       "    L1hpsTau_eta: var * float32,\n",
       "    L1hpsTau_phi: var * float32,\n",
       "    L1hpsTau_pt: var * float32,\n",
       "    GenMET_phi: float32,\n",
       "    GenMET_pt: float32,\n",
       "    nL1nnCaloTau: int32,\n",
       "    L1nnCaloTau_hwIso: var * int32,\n",
       "    L1nnCaloTau_hwQual: var * int32,\n",
       "    L1nnCaloTau_eta: var * float32,\n",
       "    L1nnCaloTau_phi: var * float32,\n",
       "    L1nnCaloTau_pt: var * float32,\n",
       "    nL1nnPuppiTau: int32,\n",
       "    L1nnPuppiTau_charge: var * int32,\n",
       "    L1nnPuppiTau_id: var * int32,\n",
       "    L1nnPuppiTau_passLooseNN: var * int32,\n",
       "    L1nnPuppiTau_passLooseNNMass: var * int32,\n",
       "    L1nnPuppiTau_passLoosePF: var * int32,\n",
       "    L1nnPuppiTau_passMass: var * int32,\n",
       "    L1nnPuppiTau_passTightNN: var * int32,\n",
       "    L1nnPuppiTau_passTightNNMass: var * int32,\n",
       "    L1nnPuppiTau_passTightPF: var * int32,\n",
       "    L1nnPuppiTau_chargedIso: var * float32,\n",
       "    L1nnPuppiTau_dXY: var * float32,\n",
       "    L1nnPuppiTau_eta: var * float32,\n",
       "    L1nnPuppiTau_fullIso: var * float32,\n",
       "    L1nnPuppiTau_phi: var * float32,\n",
       "    L1nnPuppiTau_pt: var * float32,\n",
       "    L1nnPuppiTau_z0: var * float32,\n",
       "    nprunedGenPart: int32,\n",
       "    prunedGenPart_genPartIdxMother: var * int16,\n",
       "    prunedGenPart_statusFlags: var * uint16,\n",
       "    prunedGenPart_pdgId: var * int32,\n",
       "    prunedGenPart_status: var * int32,\n",
       "    prunedGenPart_dXY: var * float32,\n",
       "    prunedGenPart_eta: var * float32,\n",
       "    prunedGenPart_lXY: var * float32,\n",
       "    prunedGenPart_mass: var * float32,\n",
       "    prunedGenPart_phi: var * float32,\n",
       "    prunedGenPart_pt: var * float32,\n",
       "    prunedGenPart_vertX: var * float32,\n",
       "    prunedGenPart_vertY: var * float32,\n",
       "    Pileup_nPU: int32,\n",
       "    Pileup_sumEOOT: int32,\n",
       "    Pileup_sumLOOT: int32,\n",
       "    Pileup_nTrueInt: float32,\n",
       "    Pileup_pudensity: float32,\n",
       "    Pileup_gpudensity: float32,\n",
       "    Pileup_pthatmax: float32,\n",
       "    L1puppiMLMET_et: float32,\n",
       "    L1puppiMLMET_phi: float32,\n",
       "    L1puppiMLMET_pt: float32,\n",
       "    L1puppiMET_et: float32,\n",
       "    L1puppiMET_phi: float32,\n",
       "    L1puppiMET_pt: float32,\n",
       "    nL1PV: int32,\n",
       "    L1PV_hwValid: var * bool,\n",
       "    L1PV_hwNTracksIn: var * uint32,\n",
       "    L1PV_hwNTracksOut: var * uint32,\n",
       "    L1PV_hwPt: var * uint32,\n",
       "    L1PV_hwQual: var * uint32,\n",
       "    L1PV_hwZ0: var * uint32,\n",
       "    L1PV_sumPt: var * float32,\n",
       "    L1PV_z0: var * float32,\n",
       "    nL1puppiExtJetSC4: int32,\n",
       "    L1puppiExtJetSC4_et: var * float32,\n",
       "    L1puppiExtJetSC4_eta: var * float32,\n",
       "    L1puppiExtJetSC4_phi: var * float32,\n",
       "    L1puppiExtJetSC4_pt: var * float32,\n",
       "    L1puppiExtJetSC4_btagScore: var * float32,\n",
       "    L1puppiExtJetSC4_llpTagScore: var * float32,\n",
       "    nL1puppiJetSC4: int32,\n",
       "    L1puppiJetSC4_et: var * float32,\n",
       "    L1puppiJetSC4_eta: var * float32,\n",
       "    L1puppiJetSC4_phi: var * float32,\n",
       "    L1puppiJetSC4_pt: var * float32,\n",
       "    nL1puppiJetSC4sums: int32,\n",
       "    L1puppiJetSC4sums_phi: var * float32,\n",
       "    L1puppiJetSC4sums_pt: var * float32,\n",
       "    nL1puppiJetSC8: int32,\n",
       "    L1puppiJetSC8_et: var * float32,\n",
       "    L1puppiJetSC8_eta: var * float32,\n",
       "    L1puppiJetSC8_phi: var * float32,\n",
       "    L1puppiJetSC8_pt: var * float32,\n",
       "    nL1EG: int32,\n",
       "    L1EG_eta: var * float32,\n",
       "    L1EG_phi: var * float32,\n",
       "    L1EG_pt: var * float32,\n",
       "    nL1EGbarrel: int32,\n",
       "    L1EGbarrel_eleId: var * bool,\n",
       "    L1EGbarrel_phoId: var * bool,\n",
       "    L1EGbarrel_saId: var * bool,\n",
       "    L1EGbarrel_hwQual: var * int32,\n",
       "    L1EGbarrel_eta: var * float32,\n",
       "    L1EGbarrel_phi: var * float32,\n",
       "    L1EGbarrel_pt: var * float32,\n",
       "    nL1EGendcap: int32,\n",
       "    L1EGendcap_eleId: var * bool,\n",
       "    L1EGendcap_phoId: var * bool,\n",
       "    L1EGendcap_saId: var * bool,\n",
       "    L1EGendcap_hwQual: var * int32,\n",
       "    L1EGendcap_eta: var * float32,\n",
       "    L1EGendcap_phi: var * float32,\n",
       "    L1EGendcap_pt: var * float32,\n",
       "    nL1gmtMuon: int32,\n",
       "    L1gmtMuon_charge: var * int32,\n",
       "    L1gmtMuon_chargeNoPh: var * int32,\n",
       "    L1gmtMuon_hwBeta: var * int32,\n",
       "    L1gmtMuon_hwEta: var * int32,\n",
       "    L1gmtMuon_hwIso: var * int32,\n",
       "    L1gmtMuon_hwPhi: var * int32,\n",
       "    L1gmtMuon_hwPt: var * int32,\n",
       "    L1gmtMuon_hwQual: var * int32,\n",
       "    L1gmtMuon_d0: var * float32,\n",
       "    L1gmtMuon_eta: var * float32,\n",
       "    L1gmtMuon_phi: var * float32,\n",
       "    L1gmtMuon_pt: var * float32,\n",
       "    L1gmtMuon_z0: var * float32,\n",
       "    nL1tkElectron: int32,\n",
       "    L1tkElectron_eleId: var * bool,\n",
       "    L1tkElectron_phoId: var * bool,\n",
       "    L1tkElectron_saId: var * bool,\n",
       "    L1tkElectron_hwEta: var * int16,\n",
       "    L1tkElectron_hwIso: var * int16,\n",
       "    L1tkElectron_hwPhi: var * int16,\n",
       "    L1tkElectron_hwPt: var * int16,\n",
       "    L1tkElectron_hwQual: var * int16,\n",
       "    L1tkElectron_charge: var * int32,\n",
       "    L1tkElectron_eta: var * float32,\n",
       "    L1tkElectron_phi: var * float32,\n",
       "    L1tkElectron_pt: var * float32,\n",
       "    L1tkElectron_relIso: var * float32,\n",
       "    L1tkElectron_z0: var * float32,\n",
       "    nL1tkPhoton: int32,\n",
       "    L1tkPhoton_eleId: var * bool,\n",
       "    L1tkPhoton_phoId: var * bool,\n",
       "    L1tkPhoton_saId: var * bool,\n",
       "    L1tkPhoton_hwEta: var * int16,\n",
       "    L1tkPhoton_hwIso: var * int16,\n",
       "    L1tkPhoton_hwPhi: var * int16,\n",
       "    L1tkPhoton_hwPt: var * int16,\n",
       "    L1tkPhoton_hwQual: var * int16,\n",
       "    L1tkPhoton_eta: var * float32,\n",
       "    L1tkPhoton_phi: var * float32,\n",
       "    L1tkPhoton_pt: var * float32,\n",
       "    L1tkPhoton_relIso: var * float32,\n",
       "    nL1Vertex: int32,\n",
       "    L1Vertex_hwValid: var * bool,\n",
       "    L1Vertex_hwNTracksIn: var * uint32,\n",
       "    L1Vertex_hwNTracksOut: var * uint32,\n",
       "    L1Vertex_hwPt: var * uint32,\n",
       "    L1Vertex_hwQual: var * uint32,\n",
       "    L1Vertex_hwZ0: var * uint32,\n",
       "    L1Vertex_sumPt: var * float32,\n",
       "    L1Vertex_z0: var * float32,\n",
       "    GenJetAK8_hadronFlavour: var * uint8,\n",
       "    GenJetAK8_partonFlavour: var * int16,\n",
       "    GenJet_hadronFlavour: var * uint8,\n",
       "    GenJet_partonFlavour: var * int16,\n",
       "    L1simulation_step: bool,\n",
       "    L1TrackTrigger_step: bool,\n",
       "    Flag_HBHENoiseFilter: bool,\n",
       "    Flag_HBHENoiseIsoFilter: bool,\n",
       "    Flag_CSCTightHaloFilter: bool,\n",
       "    Flag_CSCTightHaloTrkMuUnvetoFilter: bool,\n",
       "    Flag_CSCTightHalo2015Filter: bool,\n",
       "    Flag_globalTightHalo2016Filter: bool,\n",
       "    Flag_globalSuperTightHalo2016Filter: bool,\n",
       "    Flag_HcalStripHaloFilter: bool,\n",
       "    Flag_hcalLaserEventFilter: bool,\n",
       "    Flag_EcalDeadCellTriggerPrimitiveFilter: bool,\n",
       "    Flag_EcalDeadCellBoundaryEnergyFilter: bool,\n",
       "    Flag_ecalBadCalibFilter: bool,\n",
       "    Flag_goodVertices: bool,\n",
       "    Flag_eeBadScFilter: bool,\n",
       "    Flag_ecalLaserCorrFilter: bool,\n",
       "    Flag_trkPOGFilters: bool,\n",
       "    Flag_chargedHadronTrackResolutionFilter: bool,\n",
       "    Flag_muonBadTrackFilter: bool,\n",
       "    Flag_BadChargedCandidateFilter: bool,\n",
       "    Flag_BadPFMuonFilter: bool,\n",
       "    Flag_BadPFMuonDzFilter: bool,\n",
       "    Flag_hfNoisyHitsFilter: bool,\n",
       "    Flag_BadChargedCandidateSummer16Filter: bool,\n",
       "    Flag_BadPFMuonSummer16Filter: bool,\n",
       "    Flag_trkPOG_manystripclus53X: bool,\n",
       "    Flag_trkPOG_toomanystripclus53X: bool,\n",
       "    Flag_trkPOG_logErrorTooManyClusters: bool,\n",
       "    Flag_METFilters: bool,\n",
       "    L1TrackTrigger_step_pHLT: bool,\n",
       "    L1simulation_step_pHLT: bool,\n",
       "    L1T_SinglePFPuppiJet230off: bool,\n",
       "    L1T_PFPuppiHT450off: bool,\n",
       "    L1T_PFPuppiMET220off: bool,\n",
       "    HLT_AK4PFPuppiJet520: bool,\n",
       "    HLT_PFPuppiHT1070: bool,\n",
       "    HLT_PFPuppiMETTypeOne140_PFPuppiMHT140: bool,\n",
       "    L1T_PFHT400PT30_QuadPFPuppiJet_70_55_40_40_2p4: bool,\n",
       "    L1T_DoublePFPuppiJets112_2p4_DEta1p6: bool,\n",
       "    HLT_PFHT330PT30_QuadPFPuppiJet_75_60_45_40_TriplePFPuppiBTagDeepCSV_2p4: bool,\n",
       "    HLT_PFHT200PT30_QuadPFPuppiJet_70_40_30_30_TriplePFPuppiBTagDeepCSV_2p4: bool,\n",
       "    HLT_DoublePFPuppiJets128_DoublePFPuppiBTagDeepCSV_2p4: bool,\n",
       "    HLT_PFHT330PT30_QuadPFPuppiJet_75_60_45_40_TriplePFPuppiBTagDeepFlavour_2p4: bool,\n",
       "    HLT_PFHT200PT30_QuadPFPuppiJet_70_40_30_30_TriplePFPuppiBTagDeepFlavour_2p4: bool,\n",
       "    HLT_DoublePFPuppiJets128_DoublePFPuppiBTagDeepFlavour_2p4: bool,\n",
       "    L1T_SingleTkMuon_22: bool,\n",
       "    L1T_DoubleTkMuon_15_7: bool,\n",
       "    L1T_TripleTkMuon_5_3_3: bool,\n",
       "    HLT_Mu50_FromL1TkMuon: bool,\n",
       "    HLT_IsoMu24_FromL1TkMuon: bool,\n",
       "    HLT_Mu37_Mu27_FromL1TkMuon: bool,\n",
       "    HLT_Mu17_TrkIsoVVL_Mu8_TrkIsoVVL_DZ_FromL1TkMuon: bool,\n",
       "    HLT_TriMu_10_5_5_DZ_FromL1TkMuon: bool,\n",
       "    L1T_TkEm51: bool,\n",
       "    L1T_TkEle36: bool,\n",
       "    L1T_TkIsoEm36: bool,\n",
       "    L1T_TkIsoEle28: bool,\n",
       "    L1T_TkEm37TkEm24: bool,\n",
       "    L1T_TkEle25TkEle12: bool,\n",
       "    L1T_TkIsoEm22TkIsoEm12: bool,\n",
       "    L1T_TkIsoEle22TkEm12: bool,\n",
       "    HLT_Ele32_WPTight_Unseeded: bool,\n",
       "    HLT_Ele26_WP70_Unseeded: bool,\n",
       "    HLT_Photon108EB_TightID_TightIso_Unseeded: bool,\n",
       "    HLT_Photon187_Unseeded: bool,\n",
       "    HLT_DoubleEle25_CaloIdL_PMS2_Unseeded: bool,\n",
       "    HLT_Diphoton30_23_IsoCaloId_Unseeded: bool,\n",
       "    HLT_Ele32_WPTight_L1Seeded: bool,\n",
       "    HLT_Ele26_WP70_L1Seeded: bool,\n",
       "    HLT_Photon108EB_TightID_TightIso_L1Seeded: bool,\n",
       "    HLT_Photon187_L1Seeded: bool,\n",
       "    HLT_DoubleEle25_CaloIdL_PMS2_L1Seeded: bool,\n",
       "    HLT_DoubleEle23_12_Iso_L1Seeded: bool,\n",
       "    HLT_Diphoton30_23_IsoCaloId_L1Seeded: bool,\n",
       "    HLT_DoubleMediumChargedIsoPFTauHPS40_eta2p1: bool,\n",
       "    HLT_DoubleMediumDeepTauPFTauHPS35_eta2p1: bool,\n",
       "    HLTriggerFinalPath: bool\n",
       "}</pre>"
      ],
      "text/plain": [
       "<Array [{run: 1, ...}, ..., {run: 1, ...}] type='299 * {run: uint32, lumino...'>"
      ]
     },
     "execution_count": 7,
     "metadata": {},
     "output_type": "execute_result"
    }
   ],
   "source": [
    "events"
   ]
  },
  {
   "cell_type": "code",
   "execution_count": null,
   "metadata": {},
   "outputs": [
    {
     "data": {
      "text/html": [
       "<pre>----------------\n",
       "type: 0 * uint32</pre>"
      ],
      "text/plain": [
       "<Array [] type='0 * uint32'>"
      ]
     },
     "execution_count": 74,
     "metadata": {},
     "output_type": "execute_result"
    }
   ],
   "source": [
    "events[\"run\"]"
   ]
  },
  {
   "cell_type": "code",
   "execution_count": null,
   "metadata": {},
   "outputs": [
    {
     "data": {
      "text/html": [
       "<pre>[[0.504, 0.637, 0.304, 0.756, 0.522, 0.43, -1, ..., -1, -1, -1, -1, -1, -1, -1],\n",
       " [0.326, 0.433, 0.448, 0.481, 0.0748, 0.201, -1, ..., -1, -1, -1, -1, -1, -1],\n",
       " [0.528, 0.368, 0.418, 0.427, 0.248, 0.47, -1, ..., -1, -1, -1, -1, -1, -1, -1],\n",
       " [0.154, 0.508, 0.379, 0.797, 0.469, 0.192, -1, ..., -1, -1, -1, -1, -1, -1],\n",
       " [0.476, 0.63, 0.437, 0.506, 0.681, 0.699, -1, ..., -1, -1, -1, -1, -1, -1, -1],\n",
       " [0.459, 0.459, 0.21, 0.0431, 0.569, 0.0206, -1, ..., -1, -1, -1, -1, -1, -1],\n",
       " [0.208, 0.461, 0.691, 0.208, 0.481, 0.481, -1, ..., -1, -1, -1, -1, -1, -1],\n",
       " [0.541, 0.768, 0.519, 0.452, 0.467, 0.406, -1, ..., -1, -1, -1, -1, -1, -1],\n",
       " [0.223, 0.296, 0.471, 0.233, 0.604, 0.233, -1, ..., -1, -1, -1, -1, -1, -1],\n",
       " [0.139, 0.532, 0.843, 0.482, 0.773, 0.703, -1, ..., -1, -1, -1, -1, -1, -1],\n",
       " ...,\n",
       " [0.518, 0.47, 0.132, 0.409, 0.458, 0.481, -1, ..., -1, -1, -1, -1, -1, -1, -1],\n",
       " [0.452, 0.571, 0.503, 0.319, 0.352, 0.437, -1, -1, -1, -1, -1, -1],\n",
       " [0.523, 0.668, 0.263, 0.343, 0.481, 0.325, -1, ..., -1, -1, -1, -1, -1, -1],\n",
       " [0.445, 0.174, 0.389, 0.0512, 0.0595, 0.0571, -1, ..., -1, -1, -1, -1, -1, -1],\n",
       " [0.349, 0.264, 0.417, 0.42, 0.744, 0.531, -1, ..., -1, -1, -1, -1, -1, -1, -1],\n",
       " [0.489, 0.133, 0.482, 0.514, 0.569, 0.496, -1, ..., -1, -1, -1, -1, -1, -1],\n",
       " [0.912, 0.644, 0.49, 0.386, 0.111, 0.539, -1, ..., -1, -1, -1, -1, -1, -1, -1],\n",
       " [0.481, 0.492, 0.573, 0.487, 0.707, 0.547, -1, ..., -1, -1, -1, -1, -1, -1],\n",
       " [0.245, 0.731, 0.399, 0.0624, 0.298, 0.495, -1, ..., -1, -1, -1, -1, -1, -1]]\n",
       "--------------------------------------------------------------------------------\n",
       "type: 299 * var * float32</pre>"
      ],
      "text/plain": [
       "<Array [[0.504, 0.637, 0.304, ..., -1, -1, -1], ...] type='299 * var * float32'>"
      ]
     },
     "execution_count": 12,
     "metadata": {},
     "output_type": "execute_result"
    }
   ],
   "source": [
    "events[\"L1puppiExtJetSC4_btagScore\"]"
   ]
  },
  {
   "cell_type": "code",
   "execution_count": null,
   "metadata": {},
   "outputs": [],
   "source": [
    "l = []"
   ]
  },
  {
   "cell_type": "code",
   "execution_count": null,
   "metadata": {},
   "outputs": [],
   "source": [
    "i=0"
   ]
  },
  {
   "cell_type": "code",
   "execution_count": null,
   "metadata": {},
   "outputs": [
    {
     "name": "stdout",
     "output_type": "stream",
     "text": [
      "0\n",
      "1\n"
     ]
    }
   ],
   "source": [
    "for nev in events:\n",
    "    if i == 10: break\n",
    "    print(i)\n",
    "    #print(events[\"event\"])\n",
    "    l.append(events[\"L1puppiExtJetSC4_llpTagScore\"])\n",
    "    i+=1"
   ]
  },
  {
   "attachments": {},
   "cell_type": "markdown",
   "metadata": {},
   "source": [
    "Shouldn't I be getting the same event #'s? at every iteration?"
   ]
  },
  {
   "cell_type": "code",
   "execution_count": null,
   "metadata": {},
   "outputs": [
    {
     "data": {
      "text/html": [
       "<pre>[0.144,\n",
       " 0.981,\n",
       " 0.977,\n",
       " 0.959,\n",
       " 0.287,\n",
       " 0.214,\n",
       " -1,\n",
       " -1,\n",
       " -1,\n",
       " -1,\n",
       " -1,\n",
       " -1,\n",
       " -1,\n",
       " -1,\n",
       " -1,\n",
       " -1]\n",
       "------------------\n",
       "type: 16 * float32</pre>"
      ],
      "text/plain": [
       "<Array [0.144, 0.981, 0.977, 0.959, ..., -1, -1, -1, -1] type='16 * float32'>"
      ]
     },
     "execution_count": 12,
     "metadata": {},
     "output_type": "execute_result"
    }
   ],
   "source": [
    "l[0][0]"
   ]
  },
  {
   "cell_type": "code",
   "execution_count": null,
   "metadata": {},
   "outputs": [],
   "source": []
  }
 ],
 "metadata": {
  "kernelspec": {
   "display_name": "RatesV38",
   "language": "python",
   "name": "ratesv38"
  },
  "language_info": {
   "codemirror_mode": {
    "name": "ipython",
    "version": 3
   },
   "file_extension": ".py",
   "mimetype": "text/x-python",
   "name": "python",
   "nbconvert_exporter": "python",
   "pygments_lexer": "ipython3",
   "version": "3.11.9"
  }
 },
 "nbformat": 4,
 "nbformat_minor": 2
}
