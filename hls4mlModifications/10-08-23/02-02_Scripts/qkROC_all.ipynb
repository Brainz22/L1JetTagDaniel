{
 "cells": [
  {
   "cell_type": "code",
   "execution_count": 1,
   "metadata": {},
   "outputs": [
    {
     "name": "stderr",
     "output_type": "stream",
     "text": [
      "2024-02-05 19:15:16.060536: I tensorflow/core/platform/cpu_feature_guard.cc:193] This TensorFlow binary is optimized with oneAPI Deep Neural Network Library (oneDNN) to use the following CPU instructions in performance-critical operations:  SSE4.1 SSE4.2 AVX AVX2 FMA\n",
      "To enable them in other operations, rebuild TensorFlow with the appropriate compiler flags.\n"
     ]
    }
   ],
   "source": [
    "from numpy import loadtxt\n",
    "from tensorflow.keras.models import load_model\n",
    "from sklearn.model_selection import train_test_split\n",
    "import matplotlib\n",
    "import h5py\n",
    "from numpy import expand_dims\n",
    "import numpy as np\n",
    "matplotlib.use(\"Agg\")\n",
    "import sys, os, numpy\n",
    "import tensorflow\n",
    "from qkeras.utils import load_qmodel\n",
    "import argparse"
   ]
  },
  {
   "attachments": {},
   "cell_type": "markdown",
   "metadata": {},
   "source": [
    "    I am making this work by creating dictionaries (variable ={}). Thus, the keyword for a respective dataset calls specific paths or objects. To see what's in the dictionary, just type its name and run the cell. Otherwise, `dictionary.keys()` also works, but it might not show subkeys."
   ]
  },
  {
   "cell_type": "code",
   "execution_count": 2,
   "metadata": {},
   "outputs": [],
   "source": [
    "dataLocations4c = {\"original\":\"newTestDataST30.h5\", \n",
    "                   \"M_LLP_15_ctau_100\":\"/home/users/russelld/L1JetTagDaniel/hls4mlModifications/10-08-23/02-02_datasets/M_LLP_15_ctau_100/newTestDataPT20_Signal_Only.h5\",\n",
    "                   \"M_LLP_30_ctau_1000\":\"/home/users/russelld/L1JetTagDaniel/hls4mlModifications/10-08-23/02-02_datasets/M_LLP_30_ctau_1000/newTestDataPT20_Signal_Only.h5\", \n",
    "                   \"M_LLP_30_ctau_100\":\"/home/users/russelld/L1JetTagDaniel/hls4mlModifications/10-08-23/02-02_datasets/M_LLP_30_ctau_100/newTestDataPT20_Signal_Only.h5\",\n",
    "                   \"M_LLP_30_ctau_10\": \"/home/users/russelld/L1JetTagDaniel/hls4mlModifications/10-08-23/02-02_datasets/M_LLP_30_ctau_10/newTestDataPT20_Signal_Only.h5\", \n",
    "                   \"M_LLP_60_ctau_100\":\"/home/users/russelld/L1JetTagDaniel/hls4mlModifications/10-08-23/02-02_datasets/M_LLP_60_ctau_100/newTestDataPT20_Signal_Only.h5\"\n",
    "                   }"
   ]
  },
  {
   "cell_type": "code",
   "execution_count": 3,
   "metadata": {},
   "outputs": [
    {
     "data": {
      "text/plain": [
       "'newTestDataST30.h5'"
      ]
     },
     "execution_count": 3,
     "metadata": {},
     "output_type": "execute_result"
    }
   ],
   "source": [
    "dataLocations4c[\"original\"]"
   ]
  },
  {
   "cell_type": "code",
   "execution_count": null,
   "metadata": {},
   "outputs": [],
   "source": []
  },
  {
   "cell_type": "code",
   "execution_count": 13,
   "metadata": {},
   "outputs": [],
   "source": [
    "modelLocations4c = {\"original\":\"/home/users/russelld/L1JetTagDaniel/hls4mlModifications/10-08-23/qkL1JetTagModel.h5\",\n",
    "                    \"M_LLP_15_ctau_100\":\"/home/users/russelld/L1JetTagDaniel/hls4mlModifications/10-08-23/02-02_Scripts/M_LLP_15_ctau_100/M_LLP_15_ctau_100qkL1JetTagModel.h5\",\n",
    "                    \"M_LLP_30_ctau_1000\":\"/home/users/russelld/L1JetTagDaniel/hls4mlModifications/10-08-23/02-02_Scripts/M_LLP_30_ctau_1000/M_LLP_30_ctau_1000qkL1JetTagModel.h5\", \n",
    "                    \"M_LLP_30_ctau_100\":\"/home/users/russelld/L1JetTagDaniel/hls4mlModifications/10-08-23/02-02_Scripts/M_LLP_30_ctau_100/M_LLP_30_ctau_100qkL1JetTagModel.h5\", \n",
    "                    \"M_LLP_30_ctau_10\": \"/home/users/russelld/L1JetTagDaniel/hls4mlModifications/10-08-23/02-02_Scripts/M_LLP_30_ctau_10/M_LLP_30_ctau_10qkL1JetTagModel.h5\",\n",
    "                    \"M_LLP_60_ctau_100\":\"/home/users/russelld/L1JetTagDaniel/hls4mlModifications/10-08-23/02-02_Scripts/M_LLP_60_ctau_100/M_LLP_60_ctau_100qkL1JetTagModel.h5\" }"
   ]
  },
  {
   "cell_type": "code",
   "execution_count": null,
   "metadata": {},
   "outputs": [],
   "source": []
  },
  {
   "cell_type": "code",
   "execution_count": 5,
   "metadata": {},
   "outputs": [],
   "source": [
    "keys4c = [\"original\", \"M_LLP_15_ctau_100\", \"M_LLP_30_ctau_1000\",\"M_LLP_30_ctau_100\", \"M_LLP_30_ctau_10\", \"M_LLP_60_ctau_100\"]"
   ]
  },
  {
   "attachments": {},
   "cell_type": "markdown",
   "metadata": {},
   "source": [
    "    Only one sample of 4b tested so far."
   ]
  },
  {
   "cell_type": "code",
   "execution_count": 6,
   "metadata": {},
   "outputs": [],
   "source": [
    "dataLocations4b = {\n",
    "    \"original\":\"/home/users/russelld/L1JetTagDaniel/hls4mlModifications/10-08-23/qkL1JetTagModel.h5\",\n",
    "    \"M_LLP_30_ctau_10\":\"/home/users/russelld/L1JetTagDaniel/hls4mlModifications/10-08-23/02-02_datasets/4b/M_LLP_30_ctau_10/newTestDataPT20_Signal_Only.h5\"\n",
    "    }"
   ]
  },
  {
   "cell_type": "code",
   "execution_count": 7,
   "metadata": {},
   "outputs": [],
   "source": [
    "modelLocations4b = {\n",
    "                    \"original\":\"/home/users/russelld/L1JetTagDaniel/hls4mlModifications/10-08-23/qkL1JetTagModel.h5\",\n",
    "                    \"M_LLP_30_ctau_10\":\"/home/users/russelld/L1JetTagDaniel/hls4mlModifications/10-08-23/02-02_Scripts/4b/M_LLP_30_ctau_10/qkL1JetTagModel.h5\"\n",
    "                    }"
   ]
  },
  {
   "cell_type": "code",
   "execution_count": 8,
   "metadata": {},
   "outputs": [],
   "source": [
    "keys4b = [\"original\",\"M_LLP_30_ctau_10\"]"
   ]
  },
  {
   "attachments": {},
   "cell_type": "markdown",
   "metadata": {},
   "source": [
    "    Below I start the plotting. Do not change the bkgTestFile. This has the testing data with QCD jets we've been using."
   ]
  },
  {
   "cell_type": "code",
   "execution_count": 9,
   "metadata": {},
   "outputs": [],
   "source": [
    "N_PART_PER_JET = 10\n",
    "N_FEAT = 14\n",
    "bkgTestFile = \"/home/users/russelld/L1JetTagDaniel/hls4mlModifications/10-08-23/02-02_datasets/M_LLP_30_ctau_100/testingDataQCD30.h5\""
   ]
  },
  {
   "cell_type": "code",
   "execution_count": 10,
   "metadata": {},
   "outputs": [],
   "source": [
    "results = {}"
   ]
  },
  {
   "cell_type": "code",
   "execution_count": 11,
   "metadata": {},
   "outputs": [],
   "source": [
    "from sklearn.metrics import roc_curve\n",
    "from sklearn.metrics import auc"
   ]
  },
  {
   "cell_type": "code",
   "execution_count": null,
   "metadata": {},
   "outputs": [],
   "source": []
  },
  {
   "attachments": {},
   "cell_type": "markdown",
   "metadata": {},
   "source": [
    "    The loop below iterates over the 4c samples by the keywords stored in the list keys4c. For 4b, make a new list `keys4b` with desired keys and change  4b to 4c everywhere in loop below."
   ]
  },
  {
   "cell_type": "code",
   "execution_count": 14,
   "metadata": {},
   "outputs": [
    {
     "name": "stdout",
     "output_type": "stream",
     "text": [
      "newTestDataST30.h5\n",
      "WARNING:tensorflow:No training configuration found in the save file, so the model was *not* compiled. Compile it manually.\n"
     ]
    },
    {
     "name": "stderr",
     "output_type": "stream",
     "text": [
      "WARNING:tensorflow:No training configuration found in the save file, so the model was *not* compiled. Compile it manually.\n"
     ]
    },
    {
     "name": "stdout",
     "output_type": "stream",
     "text": [
      "3409/3409 [==============================] - 8s 2ms/step\n",
      "/home/users/russelld/L1JetTagDaniel/hls4mlModifications/10-08-23/02-02_datasets/M_LLP_15_ctau_100/newTestDataPT20_Signal_Only.h5\n",
      "WARNING:tensorflow:No training configuration found in the save file, so the model was *not* compiled. Compile it manually.\n"
     ]
    },
    {
     "name": "stderr",
     "output_type": "stream",
     "text": [
      "WARNING:tensorflow:No training configuration found in the save file, so the model was *not* compiled. Compile it manually.\n"
     ]
    },
    {
     "name": "stdout",
     "output_type": "stream",
     "text": [
      "3967/3967 [==============================] - 10s 2ms/step\n",
      "/home/users/russelld/L1JetTagDaniel/hls4mlModifications/10-08-23/02-02_datasets/M_LLP_30_ctau_1000/newTestDataPT20_Signal_Only.h5\n",
      "WARNING:tensorflow:No training configuration found in the save file, so the model was *not* compiled. Compile it manually.\n"
     ]
    },
    {
     "name": "stderr",
     "output_type": "stream",
     "text": [
      "WARNING:tensorflow:No training configuration found in the save file, so the model was *not* compiled. Compile it manually.\n"
     ]
    },
    {
     "name": "stdout",
     "output_type": "stream",
     "text": [
      "3657/3657 [==============================] - 8s 2ms/step\n",
      "/home/users/russelld/L1JetTagDaniel/hls4mlModifications/10-08-23/02-02_datasets/M_LLP_30_ctau_100/newTestDataPT20_Signal_Only.h5\n",
      "WARNING:tensorflow:No training configuration found in the save file, so the model was *not* compiled. Compile it manually.\n"
     ]
    },
    {
     "name": "stderr",
     "output_type": "stream",
     "text": [
      "WARNING:tensorflow:No training configuration found in the save file, so the model was *not* compiled. Compile it manually.\n"
     ]
    },
    {
     "name": "stdout",
     "output_type": "stream",
     "text": [
      "3781/3781 [==============================] - 9s 2ms/step\n",
      "/home/users/russelld/L1JetTagDaniel/hls4mlModifications/10-08-23/02-02_datasets/M_LLP_30_ctau_10/newTestDataPT20_Signal_Only.h5\n",
      "WARNING:tensorflow:No training configuration found in the save file, so the model was *not* compiled. Compile it manually.\n"
     ]
    },
    {
     "name": "stderr",
     "output_type": "stream",
     "text": [
      "WARNING:tensorflow:No training configuration found in the save file, so the model was *not* compiled. Compile it manually.\n"
     ]
    },
    {
     "name": "stdout",
     "output_type": "stream",
     "text": [
      "3918/3918 [==============================] - 8s 2ms/step\n",
      "/home/users/russelld/L1JetTagDaniel/hls4mlModifications/10-08-23/02-02_datasets/M_LLP_60_ctau_100/newTestDataPT20_Signal_Only.h5\n",
      "WARNING:tensorflow:No training configuration found in the save file, so the model was *not* compiled. Compile it manually.\n"
     ]
    },
    {
     "name": "stderr",
     "output_type": "stream",
     "text": [
      "WARNING:tensorflow:No training configuration found in the save file, so the model was *not* compiled. Compile it manually.\n"
     ]
    },
    {
     "name": "stdout",
     "output_type": "stream",
     "text": [
      "3404/3404 [==============================] - 8s 2ms/step\n"
     ]
    }
   ],
   "source": [
    "for keys in keys4c:\n",
    "    print(dataLocations4c[keys])\n",
    "    with h5py.File(dataLocations4c[keys], \"r\") as hf:\n",
    "        dataset = hf[\"Testing Data\"][:]\n",
    "    with h5py.File(bkgTestFile, \"r\") as hf:\n",
    "        datasetQCD = hf[\"Testing Data\"][:]\n",
    "\n",
    "    dataset = np.concatenate((dataset,datasetQCD)) #Stacking datasets on top of another\n",
    "    np.random.shuffle(dataset) #shuffling rows\n",
    "\n",
    "    A = dataset[:, 0 : len(dataset[0]) - 1]\n",
    "    b = dataset[:, len(dataset[0]) - 1]\n",
    "    #A = expand_dims(A, axis=3)\n",
    "    A = A.reshape((A.shape[0], N_PART_PER_JET, N_FEAT))\n",
    "\n",
    "    model = load_qmodel(modelLocations4c[keys])\n",
    "    model.compile(loss=\"binary_crossentropy\", optimizer=\"adam\", metrics=[\"binary_accuracy\"])\n",
    "\n",
    "    y_qkeras = model.predict(A).ravel()\n",
    "\n",
    "    fpr, tpr, thresholds_Ab = roc_curve(b, y_qkeras)\n",
    "    auc_val = auc(fpr, tpr) \n",
    "    results[keys] = {\"tpr\": tpr, \"fpr\": fpr, \"auc\": auc_val }   \n",
    "    "
   ]
  },
  {
   "cell_type": "code",
   "execution_count": 15,
   "metadata": {},
   "outputs": [],
   "source": [
    "import matplotlib.pyplot as plt"
   ]
  },
  {
   "attachments": {},
   "cell_type": "markdown",
   "metadata": {},
   "source": [
    "    Dictionary containing results is below."
   ]
  },
  {
   "cell_type": "code",
   "execution_count": 21,
   "metadata": {},
   "outputs": [
    {
     "data": {
      "text/plain": [
       "{'original': {'tpr': array([0.        , 0.        , 0.        , ..., 0.99300019, 0.99309741,\n",
       "         1.        ]),\n",
       "  'fpr': array([0.00000000e+00, 1.01241217e-05, 3.03723652e-05, ...,\n",
       "         8.34338996e-01, 8.38246907e-01, 1.00000000e+00]),\n",
       "  'auc': 0.9417839860378695},\n",
       " 'M_LLP_15_ctau_100': {'tpr': array([0.00000000e+00, 3.55113636e-05, 7.10227273e-05, ...,\n",
       "         1.00000000e+00, 1.00000000e+00, 1.00000000e+00]),\n",
       "  'fpr': array([0.00000000e+00, 0.00000000e+00, 2.02482435e-05, ...,\n",
       "         9.99878511e-01, 9.99959504e-01, 1.00000000e+00]),\n",
       "  'auc': 0.9359670107722381},\n",
       " 'M_LLP_30_ctau_1000': {'tpr': array([0.00000000e+00, 5.47975232e-05, 5.47975232e-05, ...,\n",
       "         9.98520467e-01, 9.98630062e-01, 1.00000000e+00]),\n",
       "  'fpr': array([0.00000000e+00, 0.00000000e+00, 1.01241217e-05, ...,\n",
       "         8.94607893e-01, 9.07495900e-01, 1.00000000e+00]),\n",
       "  'auc': 0.9410277992183291},\n",
       " 'M_LLP_30_ctau_100': {'tpr': array([0.00000000e+00, 4.50551926e-05, 9.01103852e-05, ...,\n",
       "         1.00000000e+00, 1.00000000e+00, 1.00000000e+00]),\n",
       "  'fpr': array([0.        , 0.        , 0.        , ..., 0.99993926, 0.9999595 ,\n",
       "         1.        ]),\n",
       "  'auc': 0.9278923734290808},\n",
       " 'M_LLP_30_ctau_10': {'tpr': array([0.00000000e+00, 3.75953983e-05, 1.87976992e-04, 3.38358585e-04,\n",
       "         4.51144780e-04, 4.88740178e-04, 5.63930975e-04, 6.76717170e-04,\n",
       "         7.51907966e-04, 8.64694161e-04, 1.01507575e-03, 1.05267115e-03,\n",
       "         1.09026655e-03, 1.16545735e-03, 1.20305275e-03, 1.50381593e-03,\n",
       "         1.65419753e-03, 1.80457912e-03, 1.87976992e-03, 2.03015151e-03,\n",
       "         2.40610549e-03, 2.66927328e-03, 2.85725027e-03, 3.12041806e-03,\n",
       "         3.34599045e-03, 3.64675364e-03, 4.09789842e-03, 4.32347081e-03,\n",
       "         4.77461559e-03, 5.18816497e-03, 6.39121771e-03, 6.87995789e-03,\n",
       "         7.29350727e-03, 7.85743825e-03, 8.42136922e-03, 8.98530020e-03,\n",
       "         1.02259483e-02, 1.10154517e-02, 1.23312907e-02, 1.31207940e-02,\n",
       "         1.43238468e-02, 1.53389225e-02, 1.63539983e-02, 1.71059062e-02,\n",
       "         1.86473176e-02, 1.96623933e-02, 2.16925448e-02, 2.29707884e-02,\n",
       "         2.47753675e-02, 2.62039926e-02, 2.79709764e-02, 2.97379601e-02,\n",
       "         3.14297530e-02, 3.36854769e-02, 3.64299410e-02, 3.86856649e-02,\n",
       "         4.26707771e-02, 4.44377608e-02, 4.79341329e-02, 4.99642844e-02,\n",
       "         5.25583669e-02, 5.50772585e-02, 5.84232490e-02, 6.24835520e-02,\n",
       "         6.76341216e-02, 7.19199970e-02, 7.61306816e-02, 7.97774352e-02,\n",
       "         8.44392646e-02, 8.86123538e-02, 9.25974661e-02, 9.64697921e-02,\n",
       "         1.01056431e-01, 1.07936389e-01, 1.14402797e-01, 1.22448212e-01,\n",
       "         1.29516147e-01, 1.35343434e-01, 1.41584270e-01, 1.47373961e-01,\n",
       "         1.52900485e-01, 1.61397045e-01, 1.68728148e-01, 1.85382909e-01,\n",
       "         1.91849318e-01, 2.04330990e-01, 2.11286139e-01, 2.21624873e-01,\n",
       "         2.29256739e-01, 2.38881161e-01, 2.46437836e-01, 2.68694312e-01,\n",
       "         2.80499267e-01, 2.97417196e-01, 3.06665664e-01, 3.23132449e-01,\n",
       "         3.34636640e-01, 3.52983195e-01, 3.66028798e-01, 3.81142148e-01,\n",
       "         3.90653784e-01, 4.02872288e-01, 4.13248618e-01, 4.26331817e-01,\n",
       "         4.37046506e-01, 4.76860032e-01, 4.88101056e-01, 5.02161735e-01,\n",
       "         5.43967818e-01, 5.59833076e-01, 5.70171811e-01, 5.84157299e-01,\n",
       "         5.93894507e-01, 6.06075416e-01, 6.17203654e-01, 6.28933419e-01,\n",
       "         6.39196962e-01, 6.50024437e-01, 6.61415843e-01, 6.70739501e-01,\n",
       "         6.80138351e-01, 6.89386819e-01, 6.99199218e-01, 7.07883755e-01,\n",
       "         7.16154743e-01, 7.24124967e-01, 7.32471146e-01, 7.40930110e-01,\n",
       "         7.48186022e-01, 7.55517125e-01, 7.63299372e-01, 7.70780856e-01,\n",
       "         7.78826272e-01, 7.84954322e-01, 7.93150118e-01, 7.99654122e-01,\n",
       "         8.05932554e-01, 8.13150870e-01, 8.20857927e-01, 8.26610023e-01,\n",
       "         8.32362119e-01, 8.37813452e-01, 8.43603143e-01, 8.48904094e-01,\n",
       "         8.54242641e-01, 8.59543592e-01, 8.64731757e-01, 8.69995113e-01,\n",
       "         8.75408850e-01, 8.79393962e-01, 8.85747584e-01, 8.90221437e-01,\n",
       "         8.94695289e-01, 8.98379638e-01, 9.03229445e-01, 9.07477725e-01,\n",
       "         9.11989173e-01, 9.16124666e-01, 9.20222565e-01, 9.24170082e-01,\n",
       "         9.27929621e-01, 9.30711681e-01, 9.34320839e-01, 9.38042784e-01,\n",
       "         9.40674461e-01, 9.43456521e-01, 9.46238580e-01, 9.48569495e-01,\n",
       "         9.51313959e-01, 9.54283996e-01, 9.56990864e-01, 9.58795443e-01,\n",
       "         9.60825595e-01, 9.62592579e-01, 9.64697921e-01, 9.66352119e-01,\n",
       "         9.68194293e-01, 9.69998872e-01, 9.71841047e-01, 9.73457649e-01,\n",
       "         9.75562991e-01, 9.76991616e-01, 9.78457837e-01, 9.79999248e-01,\n",
       "         9.81014324e-01, 9.82066995e-01, 9.83006880e-01, 9.83946765e-01,\n",
       "         9.85412985e-01, 9.86315275e-01, 9.87217565e-01, 9.88157450e-01,\n",
       "         9.88758976e-01, 9.89210121e-01, 9.90150006e-01, 9.90751532e-01,\n",
       "         9.91465845e-01, 9.91992180e-01, 9.92255348e-01, 9.92668897e-01,\n",
       "         9.93270424e-01, 9.93683973e-01, 9.93947141e-01, 9.94511072e-01,\n",
       "         9.94849430e-01, 9.95037407e-01, 9.95413361e-01, 9.95789315e-01,\n",
       "         9.96202865e-01, 9.96992368e-01, 1.00000000e+00]),\n",
       "  'fpr': array([0.00000000e+00, 0.00000000e+00, 0.00000000e+00, 0.00000000e+00,\n",
       "         0.00000000e+00, 0.00000000e+00, 0.00000000e+00, 0.00000000e+00,\n",
       "         0.00000000e+00, 1.01241217e-05, 1.01241217e-05, 1.01241217e-05,\n",
       "         2.02482435e-05, 2.02482435e-05, 2.02482435e-05, 2.02482435e-05,\n",
       "         3.03723652e-05, 3.03723652e-05, 5.06206087e-05, 6.07447304e-05,\n",
       "         6.07447304e-05, 6.07447304e-05, 7.08688521e-05, 8.09929739e-05,\n",
       "         1.01241217e-04, 1.11365339e-04, 1.31613583e-04, 1.51861826e-04,\n",
       "         1.51861826e-04, 1.61985948e-04, 1.61985948e-04, 1.61985948e-04,\n",
       "         1.92358313e-04, 2.22730678e-04, 2.63227165e-04, 2.93599530e-04,\n",
       "         3.23971895e-04, 3.94840748e-04, 4.45461356e-04, 5.06206087e-04,\n",
       "         5.66950817e-04, 6.17571426e-04, 6.98564400e-04, 7.39060886e-04,\n",
       "         9.01046834e-04, 9.41543321e-04, 1.09340515e-03, 1.17439812e-03,\n",
       "         1.25539109e-03, 1.35663231e-03, 1.52874238e-03, 1.66035596e-03,\n",
       "         1.89321076e-03, 2.05519671e-03, 2.42978922e-03, 2.56140280e-03,\n",
       "         2.88537469e-03, 3.00686415e-03, 3.29033956e-03, 3.45232551e-03,\n",
       "         3.79654565e-03, 4.10026930e-03, 4.46473768e-03, 4.82920607e-03,\n",
       "         5.28479154e-03, 5.60876344e-03, 5.99348007e-03, 6.25670723e-03,\n",
       "         6.89452690e-03, 7.25899528e-03, 7.77532549e-03, 8.35240043e-03,\n",
       "         8.95984773e-03, 9.80014984e-03, 1.06303278e-02, 1.13896369e-02,\n",
       "         1.20477049e-02, 1.27766416e-02, 1.37181849e-02, 1.45483629e-02,\n",
       "         1.53076721e-02, 1.64213255e-02, 1.73831170e-02, 1.92358313e-02,\n",
       "         2.06329601e-02, 2.22528196e-02, 2.36701966e-02, 2.53406767e-02,\n",
       "         2.67580537e-02, 2.85500233e-02, 2.99775244e-02, 3.57280256e-02,\n",
       "         3.78237188e-02, 4.56597890e-02, 4.80187094e-02, 5.13090489e-02,\n",
       "         5.36679693e-02, 5.71810395e-02, 5.95500840e-02, 6.29214166e-02,\n",
       "         6.55233159e-02, 6.89047725e-02, 7.16281613e-02, 7.53538381e-02,\n",
       "         7.85429364e-02, 9.37392431e-02, 9.72725616e-02, 1.02192885e-01,\n",
       "         1.39996355e-01, 1.45139409e-01, 1.49594023e-01, 1.55314151e-01,\n",
       "         1.60143358e-01, 1.66288699e-01, 1.71482374e-01, 1.76959524e-01,\n",
       "         1.82517667e-01, 1.88298540e-01, 1.94292020e-01, 2.00113390e-01,\n",
       "         2.06066374e-01, 2.12191467e-01, 2.18478547e-01, 2.24937737e-01,\n",
       "         2.31407050e-01, 2.37694130e-01, 2.44345678e-01, 2.51199708e-01,\n",
       "         2.58043615e-01, 2.65373479e-01, 2.72500861e-01, 2.80114200e-01,\n",
       "         2.87525057e-01, 2.95290259e-01, 3.02913722e-01, 3.11519226e-01,\n",
       "         3.19901999e-01, 3.28244275e-01, 3.36343572e-01, 3.44341628e-01,\n",
       "         3.52795270e-01, 3.61188167e-01, 3.69358333e-01, 3.77700609e-01,\n",
       "         3.87004677e-01, 3.95478567e-01, 4.04782635e-01, 4.13560249e-01,\n",
       "         4.22641586e-01, 4.31743171e-01, 4.40166441e-01, 4.49814729e-01,\n",
       "         4.59675623e-01, 4.68918946e-01, 4.78253387e-01, 4.88569867e-01,\n",
       "         4.98532002e-01, 5.08565007e-01, 5.18486646e-01, 5.28013445e-01,\n",
       "         5.37297264e-01, 5.46702574e-01, 5.56563468e-01, 5.66353494e-01,\n",
       "         5.75910665e-01, 5.85083119e-01, 5.94447932e-01, 6.03205297e-01,\n",
       "         6.12377751e-01, 6.21266730e-01, 6.30246826e-01, 6.38710592e-01,\n",
       "         6.47569198e-01, 6.56113957e-01, 6.64466358e-01, 6.73183226e-01,\n",
       "         6.81565999e-01, 6.90687833e-01, 6.99131350e-01, 7.07574868e-01,\n",
       "         7.16160123e-01, 7.24846620e-01, 7.33330634e-01, 7.41257821e-01,\n",
       "         7.50045559e-01, 7.57385547e-01, 7.65798692e-01, 7.73077935e-01,\n",
       "         7.80954502e-01, 7.87666795e-01, 7.94500577e-01, 8.01233118e-01,\n",
       "         8.07510074e-01, 8.13868022e-01, 8.20286715e-01, 8.26877518e-01,\n",
       "         8.32597647e-01, 8.38105169e-01, 8.43825298e-01, 8.49585923e-01,\n",
       "         8.54931460e-01, 8.60449106e-01, 8.66007249e-01, 8.71494523e-01,\n",
       "         8.77285520e-01, 8.82519691e-01, 8.88087958e-01, 8.93828335e-01,\n",
       "         8.99578837e-01, 9.06635349e-01, 1.00000000e+00]),\n",
       "  'auc': 0.8202774026787102},\n",
       " 'M_LLP_60_ctau_100': {'tpr': array([0.00000000e+00, 9.85221675e-05, 1.08374384e-03, ...,\n",
       "         1.00000000e+00, 1.00000000e+00, 1.00000000e+00]),\n",
       "  'fpr': array([0.        , 0.        , 0.        , ..., 0.9999595 , 0.99997975,\n",
       "         1.        ]),\n",
       "  'auc': 0.9225631189117497}}"
      ]
     },
     "execution_count": 21,
     "metadata": {},
     "output_type": "execute_result"
    }
   ],
   "source": [
    "results"
   ]
  },
  {
   "attachments": {},
   "cell_type": "markdown",
   "metadata": {},
   "source": [
    "    Below I make the plots for 4c samples since we are iterating over those paths above. Note that I am making them by calling respective keys individually, i.e., doing `plt.plot` for each sample."
   ]
  },
  {
   "cell_type": "code",
   "execution_count": 20,
   "metadata": {},
   "outputs": [],
   "source": [
    "plt.figure()\n",
    "\n",
    "#original (stop)\n",
    "plt.plot(results[\"original\"][\"fpr\"], results[\"original\"][\"tpr\"], \n",
    "         label=\"stop,AUC={:.3f}\".format(results[\"original\"][\"auc\"]))\n",
    "#M_LLP_15_ctau_100\n",
    "plt.plot(results[\"M_LLP_15_ctau_100\"][\"fpr\"], results[\"M_LLP_15_ctau_100\"][\"tpr\"], \n",
    "         label=\"4c_M_LLP_15_ctau_100,AUC={:.3f}\".format(results[\"M_LLP_15_ctau_100\"][\"auc\"]))\n",
    "\n",
    "#---->Different ctaus\n",
    "#M_LLP_30_ctau_1000\n",
    "plt.plot(results[\"M_LLP_30_ctau_1000\"][\"fpr\"], results[\"M_LLP_30_ctau_1000\"][\"tpr\"], \n",
    "         label=\"4c_M_LLP_30_ctau_1000,AUC={:.3f}\".format(results[\"M_LLP_30_ctau_1000\"][\"auc\"]))\n",
    "#M_LLP_30_ctau_100\n",
    "plt.plot(results[\"M_LLP_30_ctau_100\"][\"fpr\"], results[\"M_LLP_30_ctau_100\"][\"tpr\"], \n",
    "         label=\"4c_M_LLP_30_ctau_100,AUC={:.3f}\".format(results[\"M_LLP_30_ctau_100\"][\"auc\"]))\n",
    "#M_LLP_30_ctau_10\n",
    "plt.plot(results[\"M_LLP_30_ctau_10\"][\"fpr\"], results[\"M_LLP_30_ctau_10\"][\"tpr\"], \n",
    "         label=\"4c_M_LLP_30_ctau_10,AUC={:.3f}\".format(results[\"M_LLP_30_ctau_10\"][\"auc\"]))\n",
    "#------>Different ctaus\n",
    "\n",
    "#M_LLP_60_ctau_100\n",
    "plt.plot(results[\"M_LLP_60_ctau_100\"][\"fpr\"], results[\"M_LLP_60_ctau_100\"][\"tpr\"], \n",
    "         label=\"4c_M_LLP_60_ctau_100,AUC={:.3f}\".format(results[\"M_LLP_60_ctau_100\"][\"auc\"]))\n",
    "\n",
    "plt.xlabel(\"Background Efficiency\", fontsize=16)\n",
    "plt.ylabel(\"Signal Efficiency\", fontsize=16)\n",
    "\n",
    "plt.title(\"L1 LLP Tag QK Model ROC Curve\", fontsize=16, weight=\"bold\")\n",
    "plt.legend(loc=\"best\")\n",
    "plt.xscale(\"log\")\n",
    "#plt.yscale(\"log\")\n",
    "plt.grid(True)\n",
    "\n",
    "plt.savefig(\"ALLrocCurveQK.pdf\", dpi=120)"
   ]
  },
  {
   "cell_type": "code",
   "execution_count": null,
   "metadata": {},
   "outputs": [],
   "source": []
  },
  {
   "cell_type": "code",
   "execution_count": null,
   "metadata": {},
   "outputs": [],
   "source": []
  },
  {
   "cell_type": "code",
   "execution_count": null,
   "metadata": {},
   "outputs": [],
   "source": []
  },
  {
   "cell_type": "code",
   "execution_count": null,
   "metadata": {},
   "outputs": [],
   "source": []
  },
  {
   "cell_type": "code",
   "execution_count": null,
   "metadata": {},
   "outputs": [],
   "source": []
  },
  {
   "cell_type": "code",
   "execution_count": null,
   "metadata": {},
   "outputs": [],
   "source": []
  },
  {
   "cell_type": "code",
   "execution_count": null,
   "metadata": {},
   "outputs": [],
   "source": []
  }
 ],
 "metadata": {
  "kernelspec": {
   "display_name": "L1JetTag",
   "language": "python",
   "name": "l1jettag"
  },
  "language_info": {
   "codemirror_mode": {
    "name": "ipython",
    "version": 3
   },
   "file_extension": ".py",
   "mimetype": "text/x-python",
   "name": "python",
   "nbconvert_exporter": "python",
   "pygments_lexer": "ipython3",
   "version": "3.10.10"
  },
  "orig_nbformat": 4
 },
 "nbformat": 4,
 "nbformat_minor": 2
}
