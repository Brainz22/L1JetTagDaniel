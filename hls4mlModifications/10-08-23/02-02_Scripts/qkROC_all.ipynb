{
 "cells": [
  {
   "cell_type": "code",
   "execution_count": 20,
   "metadata": {},
   "outputs": [
    {
     "name": "stderr",
     "output_type": "stream",
     "text": [
      "2024-02-05 15:04:36.370254: I tensorflow/core/platform/cpu_feature_guard.cc:193] This TensorFlow binary is optimized with oneAPI Deep Neural Network Library (oneDNN) to use the following CPU instructions in performance-critical operations:  SSE4.1 SSE4.2 AVX AVX2 FMA\n",
      "To enable them in other operations, rebuild TensorFlow with the appropriate compiler flags.\n"
     ]
    }
   ],
   "source": [
    "from numpy import loadtxt\n",
    "from tensorflow.keras.models import load_model\n",
    "from sklearn.model_selection import train_test_split\n",
    "import matplotlib\n",
    "import h5py\n",
    "from numpy import expand_dims\n",
    "import numpy as np\n",
    "matplotlib.use(\"Agg\")\n",
    "import sys, os, numpy\n",
    "import tensorflow\n",
    "from qkeras.utils import load_qmodel\n",
    "import argparse"
   ]
  },
  {
   "attachments": {},
   "cell_type": "markdown",
   "metadata": {},
   "source": [
    "    I am making this work by creating dictionaries (variable ={}). Thus, the keyword for a respective dataset calls specific paths or objects. To see what's in the dictionary, just type its name and run the cell. Otherwise, `dictionary.keys()` also works, but it might not show subkeys."
   ]
  },
  {
   "cell_type": "code",
   "execution_count": 6,
   "metadata": {},
   "outputs": [],
   "source": [
    "dataLocations4c = {\"original\":\"newTestDataST30.h5\", \n",
    "                   \"M_LLP_15_ctau_100\":\"/home/users/russelld/L1JetTagDaniel/hls4mlModifications/10-08-23/02-02_datasets/M_LLP_15_ctau_100/newTestDataPT20_Signal_Only.h5\", \n",
    "                   \"M_LLP_30_ctau_100\":\"/home/users/russelld/L1JetTagDaniel/hls4mlModifications/10-08-23/02-02_datasets/M_LLP_30_ctau_100/newTestDataPT20_Signal_Only.h5\", \n",
    "                   \"M_LLP_60_ctau_100\":\"/home/users/russelld/L1JetTagDaniel/hls4mlModifications/10-08-23/02-02_datasets/M_LLP_60_ctau_100/newTestDataPT20_Signal_Only.h5\"\n",
    "                   }"
   ]
  },
  {
   "cell_type": "code",
   "execution_count": 7,
   "metadata": {},
   "outputs": [
    {
     "data": {
      "text/plain": [
       "'newTestDataST30.h5'"
      ]
     },
     "execution_count": 7,
     "metadata": {},
     "output_type": "execute_result"
    }
   ],
   "source": [
    "dataLocations4c[\"original\"]"
   ]
  },
  {
   "cell_type": "code",
   "execution_count": 5,
   "metadata": {},
   "outputs": [
    {
     "data": {
      "text/plain": [
       "4"
      ]
     },
     "execution_count": 5,
     "metadata": {},
     "output_type": "execute_result"
    }
   ],
   "source": [
    "len(dataLocations)"
   ]
  },
  {
   "cell_type": "code",
   "execution_count": 45,
   "metadata": {},
   "outputs": [],
   "source": [
    "modelLocations4c = {\"original\":\"/home/users/russelld/L1JetTagDaniel/hls4mlModifications/10-08-23/qkL1JetTagModel.h5\",\n",
    "                    \"M_LLP_15_ctau_100\":\"/home/users/russelld/L1JetTagDaniel/hls4mlModifications/10-08-23/02-02_Scripts/M_LLP_15_ctau_100/M_LLP_15_ctau_100qkL1JetTagModel.h5\", \n",
    "                    \"M_LLP_30_ctau_100\":\"/home/users/russelld/L1JetTagDaniel/hls4mlModifications/10-08-23/02-02_Scripts/M_LLP_30_ctau_100/M_LLP_30_ctau_100qkL1JetTagModel.h5\", \n",
    "                    \"M_LLP_60_ctau_100\":\"/home/users/russelld/L1JetTagDaniel/hls4mlModifications/10-08-23/02-02_Scripts/M_LLP_60_ctau_100/M_LLP_60_ctau_100qkL1JetTagModel.h5\" }"
   ]
  },
  {
   "cell_type": "code",
   "execution_count": 7,
   "metadata": {},
   "outputs": [
    {
     "data": {
      "text/plain": [
       "4"
      ]
     },
     "execution_count": 7,
     "metadata": {},
     "output_type": "execute_result"
    }
   ],
   "source": [
    "len(modelLocations)"
   ]
  },
  {
   "cell_type": "code",
   "execution_count": 44,
   "metadata": {},
   "outputs": [],
   "source": [
    "keys4c = [\"original\", \"M_LLP_15_ctau_100\", \"M_LLP_30_ctau_100\", \"M_LLP_60_ctau_100\"]"
   ]
  },
  {
   "attachments": {},
   "cell_type": "markdown",
   "metadata": {},
   "source": [
    "    Only one sample of 4b tested so far."
   ]
  },
  {
   "cell_type": "code",
   "execution_count": 10,
   "metadata": {},
   "outputs": [],
   "source": [
    "dataLocations4b = {\n",
    "    \"original\":\"/home/users/russelld/L1JetTagDaniel/hls4mlModifications/10-08-23/qkL1JetTagModel.h5\",\n",
    "    \"M_LLP_30_ctau_10\":\"/home/users/russelld/L1JetTagDaniel/hls4mlModifications/10-08-23/02-02_datasets/4b/M_LLP_30_ctau_10/newTestDataPT20_Signal_Only.h5\"\n",
    "    }"
   ]
  },
  {
   "cell_type": "code",
   "execution_count": 43,
   "metadata": {},
   "outputs": [],
   "source": [
    "modelLocations4b = {\n",
    "                    \"original\":\"/home/users/russelld/L1JetTagDaniel/hls4mlModifications/10-08-23/qkL1JetTagModel.h5\",\n",
    "                    \"M_LLP_30_ctau_10\":\"/home/users/russelld/L1JetTagDaniel/hls4mlModifications/10-08-23/02-02_Scripts/4b/M_LLP_30_ctau_10/qkL1JetTagModel.h5\"\n",
    "                    }"
   ]
  },
  {
   "cell_type": "code",
   "execution_count": 8,
   "metadata": {},
   "outputs": [],
   "source": [
    "keys4b = [\"original\",\"M_LLP_30_ctau_10\"]"
   ]
  },
  {
   "attachments": {},
   "cell_type": "markdown",
   "metadata": {},
   "source": [
    "    Below I start the plotting. Do not change the bkgTestFile. This has the testing data with QCD jets we've been using."
   ]
  },
  {
   "cell_type": "code",
   "execution_count": 18,
   "metadata": {},
   "outputs": [],
   "source": [
    "N_PART_PER_JET = 10\n",
    "N_FEAT = 14\n",
    "bkgTestFile = \"/home/users/russelld/L1JetTagDaniel/hls4mlModifications/10-08-23/02-02_datasets/M_LLP_30_ctau_100/testingDataQCD30.h5\""
   ]
  },
  {
   "cell_type": "code",
   "execution_count": 41,
   "metadata": {},
   "outputs": [],
   "source": [
    "results = {}"
   ]
  },
  {
   "cell_type": "code",
   "execution_count": 60,
   "metadata": {},
   "outputs": [],
   "source": [
    "from sklearn.metrics import roc_curve\n",
    "from sklearn.metrics import auc"
   ]
  },
  {
   "cell_type": "code",
   "execution_count": null,
   "metadata": {},
   "outputs": [],
   "source": []
  },
  {
   "attachments": {},
   "cell_type": "markdown",
   "metadata": {},
   "source": [
    "    The loop below iterates over the 4c samples by the keywords stored in the list keys4c. For 4b, make a new list `keys4b` with desired keys and change  4b to 4c everywhere in loop below."
   ]
  },
  {
   "cell_type": "code",
   "execution_count": 61,
   "metadata": {},
   "outputs": [
    {
     "name": "stdout",
     "output_type": "stream",
     "text": [
      "newTestDataST30.h5\n",
      "WARNING:tensorflow:No training configuration found in the save file, so the model was *not* compiled. Compile it manually.\n"
     ]
    },
    {
     "name": "stderr",
     "output_type": "stream",
     "text": [
      "WARNING:tensorflow:No training configuration found in the save file, so the model was *not* compiled. Compile it manually.\n"
     ]
    },
    {
     "name": "stdout",
     "output_type": "stream",
     "text": [
      "3409/3409 [==============================] - 9s 3ms/step\n",
      "/home/users/russelld/L1JetTagDaniel/hls4mlModifications/10-08-23/02-02_datasets/M_LLP_15_ctau_100/newTestDataPT20_Signal_Only.h5\n",
      "WARNING:tensorflow:No training configuration found in the save file, so the model was *not* compiled. Compile it manually.\n"
     ]
    },
    {
     "name": "stderr",
     "output_type": "stream",
     "text": [
      "WARNING:tensorflow:No training configuration found in the save file, so the model was *not* compiled. Compile it manually.\n"
     ]
    },
    {
     "name": "stdout",
     "output_type": "stream",
     "text": [
      "3967/3967 [==============================] - 10s 2ms/step\n",
      "/home/users/russelld/L1JetTagDaniel/hls4mlModifications/10-08-23/02-02_datasets/M_LLP_30_ctau_100/newTestDataPT20_Signal_Only.h5\n",
      "WARNING:tensorflow:No training configuration found in the save file, so the model was *not* compiled. Compile it manually.\n"
     ]
    },
    {
     "name": "stderr",
     "output_type": "stream",
     "text": [
      "WARNING:tensorflow:No training configuration found in the save file, so the model was *not* compiled. Compile it manually.\n"
     ]
    },
    {
     "name": "stdout",
     "output_type": "stream",
     "text": [
      "3781/3781 [==============================] - 9s 2ms/step\n",
      "/home/users/russelld/L1JetTagDaniel/hls4mlModifications/10-08-23/02-02_datasets/M_LLP_60_ctau_100/newTestDataPT20_Signal_Only.h5\n",
      "WARNING:tensorflow:No training configuration found in the save file, so the model was *not* compiled. Compile it manually.\n"
     ]
    },
    {
     "name": "stderr",
     "output_type": "stream",
     "text": [
      "WARNING:tensorflow:No training configuration found in the save file, so the model was *not* compiled. Compile it manually.\n"
     ]
    },
    {
     "name": "stdout",
     "output_type": "stream",
     "text": [
      "3404/3404 [==============================] - 9s 2ms/step\n"
     ]
    }
   ],
   "source": [
    "for keys in keys4c:\n",
    "    print(dataLocations4c[keys])\n",
    "    with h5py.File(dataLocations4c[keys], \"r\") as hf:\n",
    "        dataset = hf[\"Testing Data\"][:]\n",
    "    with h5py.File(bkgTestFile, \"r\") as hf:\n",
    "        datasetQCD = hf[\"Testing Data\"][:]\n",
    "\n",
    "    dataset = np.concatenate((dataset,datasetQCD)) #Stacking datasets on top of another\n",
    "    np.random.shuffle(dataset) #shuffling rows\n",
    "\n",
    "    A = dataset[:, 0 : len(dataset[0]) - 1]\n",
    "    b = dataset[:, len(dataset[0]) - 1]\n",
    "    #A = expand_dims(A, axis=3)\n",
    "    A = A.reshape((A.shape[0], N_PART_PER_JET, N_FEAT))\n",
    "\n",
    "    model = load_qmodel(modelLocations4c[keys])\n",
    "    model.compile(loss=\"binary_crossentropy\", optimizer=\"adam\", metrics=[\"binary_accuracy\"])\n",
    "\n",
    "    y_qkeras = model.predict(A).ravel()\n",
    "\n",
    "    fpr, tpr, thresholds_Ab = roc_curve(b, y_qkeras)\n",
    "    auc_val = auc(fpr, tpr) \n",
    "    results[keys] = {\"tpr\": tpr, \"fpr\": fpr, \"auc\": auc_val }   \n",
    "    "
   ]
  },
  {
   "cell_type": "code",
   "execution_count": 62,
   "metadata": {},
   "outputs": [],
   "source": [
    "import matplotlib.pyplot as plt"
   ]
  },
  {
   "attachments": {},
   "cell_type": "markdown",
   "metadata": {},
   "source": [
    "    Dictionary containing results is below."
   ]
  },
  {
   "cell_type": "code",
   "execution_count": 65,
   "metadata": {},
   "outputs": [
    {
     "data": {
      "text/plain": [
       "{'original': {'tpr': array([0.        , 0.        , 0.        , ..., 0.99300019, 0.99309741,\n",
       "         1.        ]),\n",
       "  'fpr': array([0.00000000e+00, 1.01241217e-05, 3.03723652e-05, ...,\n",
       "         8.34338996e-01, 8.38246907e-01, 1.00000000e+00]),\n",
       "  'auc': 0.9417839968647547},\n",
       " 'M_LLP_15_ctau_100': {'tpr': array([0.00000000e+00, 3.55113636e-05, 7.10227273e-05, ...,\n",
       "         1.00000000e+00, 1.00000000e+00, 1.00000000e+00]),\n",
       "  'fpr': array([0.00000000e+00, 0.00000000e+00, 2.02482435e-05, ...,\n",
       "         9.99878511e-01, 9.99959504e-01, 1.00000000e+00]),\n",
       "  'auc': 0.9359682514804802},\n",
       " 'M_LLP_30_ctau_100': {'tpr': array([0.00000000e+00, 4.50551926e-05, 9.01103852e-05, ...,\n",
       "         1.00000000e+00, 1.00000000e+00, 1.00000000e+00]),\n",
       "  'fpr': array([0.        , 0.        , 0.        , ..., 0.99993926, 0.9999595 ,\n",
       "         1.        ]),\n",
       "  'auc': 0.9278922997617837},\n",
       " 'M_LLP_60_ctau_100': {'tpr': array([0.00000000e+00, 9.85221675e-05, 1.08374384e-03, ...,\n",
       "         1.00000000e+00, 1.00000000e+00, 1.00000000e+00]),\n",
       "  'fpr': array([0.        , 0.        , 0.        , ..., 0.9999595 , 0.99997975,\n",
       "         1.        ]),\n",
       "  'auc': 0.9225634191443253}}"
      ]
     },
     "execution_count": 65,
     "metadata": {},
     "output_type": "execute_result"
    }
   ],
   "source": [
    "results"
   ]
  },
  {
   "attachments": {},
   "cell_type": "markdown",
   "metadata": {},
   "source": [
    "    Below I make the plots for 4c samples since we are iterating over those paths above. Note that I am making them by calling respective keys individually, i.e., doing `plt.plot` for each sample."
   ]
  },
  {
   "cell_type": "code",
   "execution_count": 84,
   "metadata": {},
   "outputs": [],
   "source": [
    "#plt.plot(fpr_Ab, tpr_Ab, label=\"Pf, AUC={:.3f}\".format(auc_Ab))\n",
    "plt.figure()\n",
    "plt.plot(results[\"original\"][\"fpr\"], results[\"original\"][\"tpr\"], \n",
    "         label=\"stop,AUC={:.3f}\".format(results[\"original\"][\"auc\"]))\n",
    "plt.plot(results[\"M_LLP_15_ctau_100\"][\"fpr\"], results[\"M_LLP_15_ctau_100\"][\"tpr\"], \n",
    "         label=\"4c_M_LLP_15_ctau_100,AUC={:.3f}\".format(results[\"M_LLP_15_ctau_100\"][\"auc\"]))\n",
    "plt.plot(results[\"M_LLP_30_ctau_100\"][\"fpr\"], results[\"M_LLP_30_ctau_100\"][\"tpr\"], \n",
    "         label=\"4c_M_LLP_30_ctau_100,AUC={:.3f}\".format(results[\"M_LLP_30_ctau_100\"][\"auc\"]))\n",
    "plt.plot(results[\"M_LLP_60_ctau_100\"][\"fpr\"], results[\"M_LLP_60_ctau_100\"][\"tpr\"], \n",
    "         label=\"4c_M_LLP_60_ctau_100,AUC={:.3f}\".format(results[\"M_LLP_60_ctau_100\"][\"auc\"]))\n",
    "\n",
    "plt.xlabel(\"Background Efficiency\", fontsize=16)\n",
    "plt.ylabel(\"Signal Efficiency\", fontsize=16)\n",
    "\n",
    "plt.title(\"L1 LLP Tag QK Model ROC Curve\", fontsize=16, weight=\"bold\")\n",
    "plt.legend(loc=\"best\")\n",
    "plt.xscale(\"log\")\n",
    "plt.grid(True)\n",
    "\n",
    "plt.savefig(\"ALLrocCurveQK.pdf\", dpi=120)"
   ]
  },
  {
   "cell_type": "code",
   "execution_count": null,
   "metadata": {},
   "outputs": [],
   "source": []
  },
  {
   "cell_type": "code",
   "execution_count": null,
   "metadata": {},
   "outputs": [],
   "source": []
  },
  {
   "cell_type": "code",
   "execution_count": null,
   "metadata": {},
   "outputs": [],
   "source": []
  },
  {
   "cell_type": "code",
   "execution_count": null,
   "metadata": {},
   "outputs": [],
   "source": []
  },
  {
   "cell_type": "code",
   "execution_count": null,
   "metadata": {},
   "outputs": [],
   "source": []
  },
  {
   "cell_type": "code",
   "execution_count": null,
   "metadata": {},
   "outputs": [],
   "source": []
  },
  {
   "cell_type": "code",
   "execution_count": null,
   "metadata": {},
   "outputs": [],
   "source": []
  }
 ],
 "metadata": {
  "kernelspec": {
   "display_name": "L1JetTag",
   "language": "python",
   "name": "l1jettag"
  },
  "language_info": {
   "codemirror_mode": {
    "name": "ipython",
    "version": 3
   },
   "file_extension": ".py",
   "mimetype": "text/x-python",
   "name": "python",
   "nbconvert_exporter": "python",
   "pygments_lexer": "ipython3",
   "version": "3.10.10"
  },
  "orig_nbformat": 4
 },
 "nbformat": 4,
 "nbformat_minor": 2
}
